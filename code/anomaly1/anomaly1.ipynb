{
 "cells": [
  {
   "cell_type": "code",
   "execution_count": null,
   "id": "cdf15fe8-c1dd-4cb1-9410-343dbef18895",
   "metadata": {
    "tags": []
   },
   "outputs": [],
   "source": [
    "import pandas as pd\n",
    "import numpy as np"
   ]
  },
  {
   "cell_type": "code",
   "execution_count": null,
   "id": "46d40d32-5abf-4f25-a9f0-02a2ac2f9650",
   "metadata": {
    "tags": []
   },
   "outputs": [],
   "source": [
    "#imported data and renamed headers which were imported as a row before.\n",
    "device_5 = pd.read_csv('/srv/data/my_shared_data_folder/internet-equity/device_data_oct21/nm-mngd-20210518-221fcce5.csv', header=None)\n",
    "device_5"
   ]
  },
  {
   "cell_type": "code",
   "execution_count": null,
   "id": "89fe6109-609d-46e2-8fc9-660cb63dfabc",
   "metadata": {
    "tags": []
   },
   "outputs": [],
   "source": [
    "device_5.rename(columns={0:'time', 1:'deviceid', 2:'tool', 3:'direction', 4:'protocol', 5:'target', 6:'pktloss', 7:'method', 8:'zip', 9:'isp', 10:'value', 11:'topic', 12:'annon:paddar', 13:'ipaddnchanged'}, inplace = True)\n",
    "device_5"
   ]
  },
  {
   "cell_type": "code",
   "execution_count": null,
   "id": "bdde8817-410e-4da9-a0f7-fce73e630ad2",
   "metadata": {
    "tags": []
   },
   "outputs": [],
   "source": [
    "def split_hour(time):\n",
    "    row = time\n",
    "    return row[11:13]\n",
    "\n",
    "device_5.loc[:,\"hour\"] = device_5.loc[:,\"time\"].apply(split_hour) "
   ]
  },
  {
   "cell_type": "code",
   "execution_count": null,
   "id": "9a5bcabb-3305-45f4-9f70-601486825f56",
   "metadata": {
    "tags": []
   },
   "outputs": [],
   "source": [
    "device_5"
   ]
  },
  {
   "cell_type": "code",
   "execution_count": null,
   "id": "aab46941-bb3e-4be7-9961-75b2409f6cde",
   "metadata": {
    "tags": []
   },
   "outputs": [],
   "source": [
    "def split_date(time):\n",
    "    row = time\n",
    "    return row[:10]\n",
    "\n",
    "device_5.loc[:,\"date\"] = device_5.loc[:,\"time\"].apply(split_date) "
   ]
  },
  {
   "cell_type": "code",
   "execution_count": null,
   "id": "2b69bc76-b36e-49d3-a191-0b7c00746199",
   "metadata": {
    "tags": []
   },
   "outputs": [],
   "source": [
    "device_5"
   ]
  },
  {
   "cell_type": "code",
   "execution_count": null,
   "id": "8b088392-e7e3-4680-97f4-6add71cda7f9",
   "metadata": {
    "tags": []
   },
   "outputs": [],
   "source": [
    "device_5['date'].sample(7)"
   ]
  },
  {
   "cell_type": "code",
   "execution_count": null,
   "id": "8fb11d66-7908-44d1-9f75-645729a00c9a",
   "metadata": {
    "tags": []
   },
   "outputs": [],
   "source": [
    "device_5max = device_5.loc[device_5['method'] == 'max']\n",
    "device_5max"
   ]
  },
  {
   "cell_type": "code",
   "execution_count": null,
   "id": "1b841a93-791a-4f18-a0bb-8c6beb4042ae",
   "metadata": {
    "tags": []
   },
   "outputs": [],
   "source": [
    "device_5max.hour = device_5max['hour'].astype('int')\n",
    "print(device_5max.dtypes)"
   ]
  },
  {
   "cell_type": "code",
   "execution_count": null,
   "id": "718b862a-060f-4151-aec1-d9b180754459",
   "metadata": {
    "tags": []
   },
   "outputs": [],
   "source": [
    "day1 = device_5max.loc[device_5['date'] == '2021-10-22']\n",
    "day1"
   ]
  },
  {
   "cell_type": "code",
   "execution_count": null,
   "id": "be6d61b5-922c-40ac-b50b-c231b86ca461",
   "metadata": {
    "tags": []
   },
   "outputs": [],
   "source": [
    "day2 = device_5max.loc[device_5['date'] == '2021-10-14']\n",
    "day2"
   ]
  },
  {
   "cell_type": "code",
   "execution_count": null,
   "id": "3e2f7684-5ff3-407e-9ae0-0fa6817bb787",
   "metadata": {
    "tags": []
   },
   "outputs": [],
   "source": [
    "day3 = device_5max.loc[device_5['date'] == '2021-10-08']\n",
    "day3"
   ]
  },
  {
   "cell_type": "code",
   "execution_count": null,
   "id": "f766a44b-1de7-4ff0-9636-fdf6bcbcbdab",
   "metadata": {
    "tags": []
   },
   "outputs": [],
   "source": [
    "day4 = device_5max.loc[device_5['date'] == '2021-10-28']\n",
    "day4"
   ]
  },
  {
   "cell_type": "code",
   "execution_count": null,
   "id": "157f43a0-9a8c-41d5-8551-f83dcdcc6380",
   "metadata": {
    "tags": []
   },
   "outputs": [],
   "source": [
    "day5 = device_5.loc[device_5['date'] == '2021-10-25']\n",
    "day5"
   ]
  },
  {
   "cell_type": "code",
   "execution_count": null,
   "id": "35c0b02a-d522-4d3c-92bc-603ae4bb32ba",
   "metadata": {
    "tags": []
   },
   "outputs": [],
   "source": [
    "day6 = device_5max.loc[device_5['date'] == '2021-10-02']\n",
    "day6"
   ]
  },
  {
   "cell_type": "code",
   "execution_count": null,
   "id": "d965fd51-7a53-4aa6-a6b5-c23fc93009e5",
   "metadata": {
    "tags": []
   },
   "outputs": [],
   "source": [
    "day7 = device_5max.loc[device_5['date'] == '2021-10-29']\n",
    "day7"
   ]
  },
  {
   "cell_type": "code",
   "execution_count": null,
   "id": "e9958611-a0f5-443b-b23c-5812eb3ba3aa",
   "metadata": {
    "tags": []
   },
   "outputs": [],
   "source": [
    "day1min = day1['hour'].min()\n",
    "day1min"
   ]
  },
  {
   "cell_type": "code",
   "execution_count": null,
   "id": "120dc132-c5a5-4b5a-b52e-7ad7e7892f6e",
   "metadata": {
    "tags": []
   },
   "outputs": [],
   "source": [
    "day1max = day1['hour'].max()\n",
    "day1max"
   ]
  },
  {
   "cell_type": "code",
   "execution_count": null,
   "id": "4e2215c4-85b1-430a-832a-742cf1b45949",
   "metadata": {
    "tags": []
   },
   "outputs": [],
   "source": [
    "import matplotlib.pyplot as plt\n",
    "import seaborn as sns"
   ]
  },
  {
   "cell_type": "code",
   "execution_count": 89,
   "id": "65e1af5d-ca7d-4afe-a8e0-e0c3c90eacf3",
   "metadata": {
    "tags": []
   },
   "outputs": [
    {
     "ename": "TypeError",
     "evalue": "'numpy.int64' object is not iterable",
     "output_type": "error",
     "traceback": [
      "\u001b[0;31m---------------------------------------------------------------------------\u001b[0m",
      "\u001b[0;31mTypeError\u001b[0m                                 Traceback (most recent call last)",
      "Cell \u001b[0;32mIn[89], line 5\u001b[0m\n\u001b[1;32m      1\u001b[0m fig,ax \u001b[38;5;241m=\u001b[39m  plt\u001b[38;5;241m.\u001b[39msubplots(figsize \u001b[38;5;241m=\u001b[39m ( \u001b[38;5;241m10\u001b[39m, \u001b[38;5;241m8\u001b[39m))\n\u001b[1;32m      2\u001b[0m sns\u001b[38;5;241m.\u001b[39mlineplot( x \u001b[38;5;241m=\u001b[39m \u001b[38;5;124m\"\u001b[39m\u001b[38;5;124mhour\u001b[39m\u001b[38;5;124m\"\u001b[39m, y \u001b[38;5;241m=\u001b[39m \u001b[38;5;124m\"\u001b[39m\u001b[38;5;124mvalue\u001b[39m\u001b[38;5;124m\"\u001b[39m,\n\u001b[1;32m      3\u001b[0m              color \u001b[38;5;241m=\u001b[39m \u001b[38;5;124m'\u001b[39m\u001b[38;5;124mred\u001b[39m\u001b[38;5;124m'\u001b[39m, data \u001b[38;5;241m=\u001b[39m day1,\n\u001b[1;32m      4\u001b[0m              ax \u001b[38;5;241m=\u001b[39m ax)\n\u001b[0;32m----> 5\u001b[0m plt\u001b[38;5;241m.\u001b[39mxticks(np\u001b[38;5;241m.\u001b[39marange(\u001b[38;5;28;43mmin\u001b[39;49m\u001b[43m(\u001b[49m\u001b[43mday1min\u001b[49m\u001b[43m)\u001b[49m, \u001b[38;5;28mmax\u001b[39m(day1max)\u001b[38;5;241m+\u001b[39m\u001b[38;5;241m1\u001b[39m, \u001b[38;5;241m1.0\u001b[39m))\n",
      "\u001b[0;31mTypeError\u001b[0m: 'numpy.int64' object is not iterable"
     ]
    },
    {
     "data": {
      "image/png": "[encoded data removed]",
      "text/plain": [
       "<Figure size 1000x800 with 1 Axes>"
      ]
     },
     "metadata": {},
     "output_type": "display_data"
    }
   ],
   "source": [
    "fig,ax =  plt.subplots(figsize = ( 10, 8))\n",
    "sns.lineplot( x = \"hour\", y = \"value\",\n",
    "             color = 'red', data = day1,\n",
    "             ax = ax)\n",
    "plt.xticks(np.arange(min(day1min), max(day1max)+1, 1.0))"
   ]
  },
  {
   "cell_type": "code",
   "execution_count": null,
   "id": "fd563fe3-160c-4a00-9383-46d1413c8814",
   "metadata": {
    "tags": []
   },
   "outputs": [],
   "source": [
    "fig,ax =  plt.subplots(figsize = ( 10, 8))\n",
    "sns.lineplot( x = \"hour\", y = \"value\",\n",
    "             color = 'red', data = day2,\n",
    "             ax = ax)\n",
    "plt.xticks(np.arange(min(day2['hour']), max(day2['hour'])+1, 1.0))"
   ]
  },
  {
   "cell_type": "code",
   "execution_count": null,
   "id": "e87769f4-aca7-4a38-a7d4-02ecfff1f898",
   "metadata": {
    "tags": []
   },
   "outputs": [],
   "source": [
    "fig,ax =  plt.subplots(figsize = ( 10, 8))\n",
    "sns.lineplot( x = \"hour\", y = \"value\",\n",
    "             color = 'red', data = day3,\n",
    "             ax = ax)\n",
    "plt.xticks(np.arange(min(day3['hour']), max(day3['hour'])+1, 1.0))"
   ]
  },
  {
   "cell_type": "code",
   "execution_count": null,
   "id": "c525da92-3585-4a52-ab90-40662c81b030",
   "metadata": {},
   "outputs": [],
   "source": []
  }
 ],
 "metadata": {
  "kernelspec": {
   "display_name": "Python 3 (ipykernel)",
   "language": "python",
   "name": "python3"
  },
  "language_info": {
   "codemirror_mode": {
    "name": "ipython",
    "version": 3
   },
   "file_extension": ".py",
   "mimetype": "text/x-python",
   "name": "python",
   "nbconvert_exporter": "python",
   "pygments_lexer": "ipython3",
   "version": "3.9.7"
  }
 },
 "nbformat": 4,
 "nbformat_minor": 5
}
