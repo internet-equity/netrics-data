{
 "cells": [
  {
   "cell_type": "code",
   "execution_count": 1,
   "id": "99fd8fc6-7d92-42c7-ae50-e8d226a9ea8b",
   "metadata": {
    "tags": []
   },
   "outputs": [],
   "source": [
    "import numpy as np\n",
    "import pandas as pd\n",
    "\n",
    "import matplotlib as mpl\n",
    "import matplotlib.pyplot as plt\n",
    "\n",
    "import seaborn as sns\n",
    "import seaborn.objects as so\n",
    "import plotly.express as px\n",
    "\n",
    "#Import necessary libraries for visualizing and dataframes"
   ]
  },
  {
   "cell_type": "code",
   "execution_count": 2,
   "id": "950aa13f-489f-4e9f-86b0-a9a89d7f7b46",
   "metadata": {
    "tags": []
   },
   "outputs": [],
   "source": [
    "#Creating a list of all files specified by month number\n",
    "all_files = [\"filtered_netrics_latency_202201.csv\", \"filtered_netrics_latency_202207.csv\",\n",
    "             \"filtered_netrics_latency_202202.csv\", \"filtered_netrics_latency_202208.csv\",\n",
    "            \"filtered_netrics_latency_202203.csv\",  \"filtered_netrics_latency_202209.csv\",\n",
    "            \"filtered_netrics_latency_202204.csv\",  \"filtered_netrics_latency_202210.csv\",\n",
    "            \"filtered_netrics_latency_202205.csv\",  \"filtered_netrics_latency_202211.csv\",\n",
    "            \"filtered_netrics_latency_202206.csv\",  \"filtered_netrics_latency_202212.csv\"]"
   ]
  },
  {
   "cell_type": "code",
   "execution_count": 3,
   "id": "97a9b94a-fa6e-4351-b08e-038b941810b1",
   "metadata": {
    "tags": []
   },
   "outputs": [
    {
     "data": {
      "text/plain": [
       "'filtered_netrics_latency_202201.csv'"
      ]
     },
     "execution_count": 3,
     "metadata": {},
     "output_type": "execute_result"
    }
   ],
   "source": [
    "#checking the first index of the \n",
    "all_files[0]"
   ]
  },
  {
   "cell_type": "code",
   "execution_count": 4,
   "id": "db5e6215-d180-404f-8625-2a8cfe1af8b8",
   "metadata": {
    "tags": []
   },
   "outputs": [],
   "source": [
    "#creating a variable for the path string\n",
    "path=\"/srv/data/my_shared_data_folder//iet_2022/\""
   ]
  },
  {
   "cell_type": "code",
   "execution_count": 5,
   "id": "8fef7bff-23d8-4332-ba49-1648313de804",
   "metadata": {
    "tags": []
   },
   "outputs": [],
   "source": [
    "#creating a list for of column names\n",
    "columns = ['time','deviceid','tool','direction','protocol','target','pktloss','method','zip','isp','value','topic','annonipaddr','ipaddrchanged']"
   ]
  },
  {
   "cell_type": "code",
   "execution_count": 6,
   "id": "40109fde-ede8-465b-a086-c9a9f1167b30",
   "metadata": {
    "tags": []
   },
   "outputs": [
    {
     "data": {
      "text/html": [
       "<div>\n",
       "<style scoped>\n",
       "    .dataframe tbody tr th:only-of-type {\n",
       "        vertical-align: middle;\n",
       "    }\n",
       "\n",
       "    .dataframe tbody tr th {\n",
       "        vertical-align: top;\n",
       "    }\n",
       "\n",
       "    .dataframe thead th {\n",
       "        text-align: right;\n",
       "    }\n",
       "</style>\n",
       "<table border=\"1\" class=\"dataframe\">\n",
       "  <thead>\n",
       "    <tr style=\"text-align: right;\">\n",
       "      <th></th>\n",
       "      <th>time</th>\n",
       "      <th>deviceid</th>\n",
       "      <th>tool</th>\n",
       "      <th>direction</th>\n",
       "      <th>protocol</th>\n",
       "      <th>target</th>\n",
       "      <th>pktloss</th>\n",
       "      <th>method</th>\n",
       "      <th>zip</th>\n",
       "      <th>isp</th>\n",
       "      <th>value</th>\n",
       "      <th>topic</th>\n",
       "      <th>annonipaddr</th>\n",
       "      <th>ipaddrchanged</th>\n",
       "    </tr>\n",
       "  </thead>\n",
       "  <tbody>\n",
       "    <tr>\n",
       "      <th>0</th>\n",
       "      <td>2022-01-03 18:26:07</td>\n",
       "      <td>nm-mngd-20210518-19941862</td>\n",
       "      <td>ping_latency</td>\n",
       "      <td>rtt</td>\n",
       "      <td>icmp</td>\n",
       "      <td>Atlanta</td>\n",
       "      <td>0.0</td>\n",
       "      <td>avg</td>\n",
       "      <td>60649</td>\n",
       "      <td>att</td>\n",
       "      <td>43.394</td>\n",
       "      <td>chicago</td>\n",
       "      <td>108.237.217.0</td>\n",
       "      <td>0</td>\n",
       "    </tr>\n",
       "    <tr>\n",
       "      <th>1</th>\n",
       "      <td>2022-01-03 18:26:07</td>\n",
       "      <td>nm-mngd-20210518-19941862</td>\n",
       "      <td>ping_latency</td>\n",
       "      <td>rtt</td>\n",
       "      <td>icmp</td>\n",
       "      <td>Atlanta</td>\n",
       "      <td>0.0</td>\n",
       "      <td>max</td>\n",
       "      <td>60649</td>\n",
       "      <td>att</td>\n",
       "      <td>44.146</td>\n",
       "      <td>chicago</td>\n",
       "      <td>108.237.217.0</td>\n",
       "      <td>0</td>\n",
       "    </tr>\n",
       "    <tr>\n",
       "      <th>2</th>\n",
       "      <td>2022-01-03 18:26:07</td>\n",
       "      <td>nm-mngd-20210518-19941862</td>\n",
       "      <td>ping_latency</td>\n",
       "      <td>rtt</td>\n",
       "      <td>icmp</td>\n",
       "      <td>Atlanta</td>\n",
       "      <td>0.0</td>\n",
       "      <td>mdev</td>\n",
       "      <td>60649</td>\n",
       "      <td>att</td>\n",
       "      <td>0.514</td>\n",
       "      <td>chicago</td>\n",
       "      <td>108.237.217.0</td>\n",
       "      <td>0</td>\n",
       "    </tr>\n",
       "    <tr>\n",
       "      <th>3</th>\n",
       "      <td>2022-01-03 18:26:07</td>\n",
       "      <td>nm-mngd-20210518-19941862</td>\n",
       "      <td>ping_latency</td>\n",
       "      <td>rtt</td>\n",
       "      <td>icmp</td>\n",
       "      <td>Atlanta</td>\n",
       "      <td>0.0</td>\n",
       "      <td>min</td>\n",
       "      <td>60649</td>\n",
       "      <td>att</td>\n",
       "      <td>42.709</td>\n",
       "      <td>chicago</td>\n",
       "      <td>108.237.217.0</td>\n",
       "      <td>0</td>\n",
       "    </tr>\n",
       "    <tr>\n",
       "      <th>4</th>\n",
       "      <td>2022-01-03 18:26:07</td>\n",
       "      <td>nm-mngd-20210518-19941862</td>\n",
       "      <td>ping_latency</td>\n",
       "      <td>rtt</td>\n",
       "      <td>icmp</td>\n",
       "      <td>Chicago</td>\n",
       "      <td>0.0</td>\n",
       "      <td>avg</td>\n",
       "      <td>60649</td>\n",
       "      <td>att</td>\n",
       "      <td>20.881</td>\n",
       "      <td>chicago</td>\n",
       "      <td>108.237.217.0</td>\n",
       "      <td>0</td>\n",
       "    </tr>\n",
       "  </tbody>\n",
       "</table>\n",
       "</div>"
      ],
      "text/plain": [
       "                  time                   deviceid          tool direction  \\\n",
       "0  2022-01-03 18:26:07  nm-mngd-20210518-19941862  ping_latency       rtt   \n",
       "1  2022-01-03 18:26:07  nm-mngd-20210518-19941862  ping_latency       rtt   \n",
       "2  2022-01-03 18:26:07  nm-mngd-20210518-19941862  ping_latency       rtt   \n",
       "3  2022-01-03 18:26:07  nm-mngd-20210518-19941862  ping_latency       rtt   \n",
       "4  2022-01-03 18:26:07  nm-mngd-20210518-19941862  ping_latency       rtt   \n",
       "\n",
       "  protocol   target  pktloss method    zip  isp   value    topic  \\\n",
       "0     icmp  Atlanta      0.0    avg  60649  att  43.394  chicago   \n",
       "1     icmp  Atlanta      0.0    max  60649  att  44.146  chicago   \n",
       "2     icmp  Atlanta      0.0   mdev  60649  att   0.514  chicago   \n",
       "3     icmp  Atlanta      0.0    min  60649  att  42.709  chicago   \n",
       "4     icmp  Chicago      0.0    avg  60649  att  20.881  chicago   \n",
       "\n",
       "     annonipaddr  ipaddrchanged  \n",
       "0  108.237.217.0              0  \n",
       "1  108.237.217.0              0  \n",
       "2  108.237.217.0              0  \n",
       "3  108.237.217.0              0  \n",
       "4  108.237.217.0              0  "
      ]
     },
     "execution_count": 6,
     "metadata": {},
     "output_type": "execute_result"
    }
   ],
   "source": [
    "#making an initial dataframe that only has january\n",
    "data2022 = pd.read_csv(path + 'filtered_netrics_latency_202201.csv',names=columns)\n",
    "data2022.head()"
   ]
  },
  {
   "cell_type": "code",
   "execution_count": 7,
   "id": "bb1fb29f-7cdf-45f4-ba57-27baed76cd51",
   "metadata": {
    "tags": []
   },
   "outputs": [],
   "source": [
    "#created a for loop that adds all the csv files from the all_files list and adds it to the initial list\n",
    "for file in all_files:\n",
    "    df = pd.read_csv(path + file, names=columns)\n",
    "    data2022 = pd.concat([data2022,df])\n",
    "    "
   ]
  },
  {
   "cell_type": "code",
   "execution_count": 8,
   "id": "86805d03-bb12-4b5e-b438-281b32fb438d",
   "metadata": {
    "tags": []
   },
   "outputs": [
    {
     "data": {
      "text/html": [
       "<div>\n",
       "<style scoped>\n",
       "    .dataframe tbody tr th:only-of-type {\n",
       "        vertical-align: middle;\n",
       "    }\n",
       "\n",
       "    .dataframe tbody tr th {\n",
       "        vertical-align: top;\n",
       "    }\n",
       "\n",
       "    .dataframe thead th {\n",
       "        text-align: right;\n",
       "    }\n",
       "</style>\n",
       "<table border=\"1\" class=\"dataframe\">\n",
       "  <thead>\n",
       "    <tr style=\"text-align: right;\">\n",
       "      <th></th>\n",
       "      <th>time</th>\n",
       "      <th>deviceid</th>\n",
       "      <th>tool</th>\n",
       "      <th>direction</th>\n",
       "      <th>protocol</th>\n",
       "      <th>target</th>\n",
       "      <th>pktloss</th>\n",
       "      <th>method</th>\n",
       "      <th>zip</th>\n",
       "      <th>isp</th>\n",
       "      <th>value</th>\n",
       "      <th>topic</th>\n",
       "      <th>annonipaddr</th>\n",
       "      <th>ipaddrchanged</th>\n",
       "    </tr>\n",
       "  </thead>\n",
       "  <tbody>\n",
       "    <tr>\n",
       "      <th>157473</th>\n",
       "      <td>2022-11-19 05:55:59</td>\n",
       "      <td>nm-mngd-20210518-19941862</td>\n",
       "      <td>ping_latency</td>\n",
       "      <td>rtt</td>\n",
       "      <td>icmp</td>\n",
       "      <td>amazon</td>\n",
       "      <td>0.0</td>\n",
       "      <td>min</td>\n",
       "      <td>60649</td>\n",
       "      <td>att</td>\n",
       "      <td>10.646</td>\n",
       "      <td>chicago</td>\n",
       "      <td>73.176.1.0</td>\n",
       "      <td>0</td>\n",
       "    </tr>\n",
       "    <tr>\n",
       "      <th>157472</th>\n",
       "      <td>2022-11-19 05:55:59</td>\n",
       "      <td>nm-mngd-20210518-19941862</td>\n",
       "      <td>ping_latency</td>\n",
       "      <td>rtt</td>\n",
       "      <td>icmp</td>\n",
       "      <td>amazon</td>\n",
       "      <td>0.0</td>\n",
       "      <td>mdev</td>\n",
       "      <td>60649</td>\n",
       "      <td>att</td>\n",
       "      <td>1.962</td>\n",
       "      <td>chicago</td>\n",
       "      <td>73.176.1.0</td>\n",
       "      <td>0</td>\n",
       "    </tr>\n",
       "    <tr>\n",
       "      <th>157471</th>\n",
       "      <td>2022-11-19 05:55:59</td>\n",
       "      <td>nm-mngd-20210518-19941862</td>\n",
       "      <td>ping_latency</td>\n",
       "      <td>rtt</td>\n",
       "      <td>icmp</td>\n",
       "      <td>amazon</td>\n",
       "      <td>0.0</td>\n",
       "      <td>max</td>\n",
       "      <td>60649</td>\n",
       "      <td>att</td>\n",
       "      <td>16.883</td>\n",
       "      <td>chicago</td>\n",
       "      <td>73.176.1.0</td>\n",
       "      <td>0</td>\n",
       "    </tr>\n",
       "    <tr>\n",
       "      <th>157480</th>\n",
       "      <td>2022-11-19 05:55:59</td>\n",
       "      <td>nm-mngd-20210518-19941862</td>\n",
       "      <td>ping_latency</td>\n",
       "      <td>rtt</td>\n",
       "      <td>icmp</td>\n",
       "      <td>google</td>\n",
       "      <td>0.0</td>\n",
       "      <td>mdev</td>\n",
       "      <td>60649</td>\n",
       "      <td>att</td>\n",
       "      <td>1.432</td>\n",
       "      <td>chicago</td>\n",
       "      <td>73.176.1.0</td>\n",
       "      <td>0</td>\n",
       "    </tr>\n",
       "    <tr>\n",
       "      <th>157476</th>\n",
       "      <td>2022-11-19 05:55:59</td>\n",
       "      <td>nm-mngd-20210518-19941862</td>\n",
       "      <td>ping_latency</td>\n",
       "      <td>rtt</td>\n",
       "      <td>icmp</td>\n",
       "      <td>facebook</td>\n",
       "      <td>0.0</td>\n",
       "      <td>mdev</td>\n",
       "      <td>60649</td>\n",
       "      <td>att</td>\n",
       "      <td>0.943</td>\n",
       "      <td>chicago</td>\n",
       "      <td>73.176.1.0</td>\n",
       "      <td>0</td>\n",
       "    </tr>\n",
       "  </tbody>\n",
       "</table>\n",
       "</div>"
      ],
      "text/plain": [
       "                       time                   deviceid          tool  \\\n",
       "157473  2022-11-19 05:55:59  nm-mngd-20210518-19941862  ping_latency   \n",
       "157472  2022-11-19 05:55:59  nm-mngd-20210518-19941862  ping_latency   \n",
       "157471  2022-11-19 05:55:59  nm-mngd-20210518-19941862  ping_latency   \n",
       "157480  2022-11-19 05:55:59  nm-mngd-20210518-19941862  ping_latency   \n",
       "157476  2022-11-19 05:55:59  nm-mngd-20210518-19941862  ping_latency   \n",
       "\n",
       "       direction protocol    target  pktloss method    zip  isp   value  \\\n",
       "157473       rtt     icmp    amazon      0.0    min  60649  att  10.646   \n",
       "157472       rtt     icmp    amazon      0.0   mdev  60649  att   1.962   \n",
       "157471       rtt     icmp    amazon      0.0    max  60649  att  16.883   \n",
       "157480       rtt     icmp    google      0.0   mdev  60649  att   1.432   \n",
       "157476       rtt     icmp  facebook      0.0   mdev  60649  att   0.943   \n",
       "\n",
       "          topic annonipaddr ipaddrchanged  \n",
       "157473  chicago  73.176.1.0             0  \n",
       "157472  chicago  73.176.1.0             0  \n",
       "157471  chicago  73.176.1.0             0  \n",
       "157480  chicago  73.176.1.0             0  \n",
       "157476  chicago  73.176.1.0             0  "
      ]
     },
     "execution_count": 8,
     "metadata": {},
     "output_type": "execute_result"
    }
   ],
   "source": [
    "#puts the data in chronological order\n",
    "data2022 = data2022.sort_values(by=['time'])\n",
    "data2022.tail()"
   ]
  },
  {
   "cell_type": "code",
   "execution_count": 9,
   "id": "d5b6bdfc-16cc-4621-ae15-3311f2356c4b",
   "metadata": {
    "tags": []
   },
   "outputs": [
    {
     "data": {
      "text/html": [
       "<div>\n",
       "<style scoped>\n",
       "    .dataframe tbody tr th:only-of-type {\n",
       "        vertical-align: middle;\n",
       "    }\n",
       "\n",
       "    .dataframe tbody tr th {\n",
       "        vertical-align: top;\n",
       "    }\n",
       "\n",
       "    .dataframe thead th {\n",
       "        text-align: right;\n",
       "    }\n",
       "</style>\n",
       "<table border=\"1\" class=\"dataframe\">\n",
       "  <thead>\n",
       "    <tr style=\"text-align: right;\">\n",
       "      <th></th>\n",
       "      <th>time</th>\n",
       "      <th>deviceid</th>\n",
       "      <th>tool</th>\n",
       "      <th>direction</th>\n",
       "      <th>protocol</th>\n",
       "      <th>target</th>\n",
       "      <th>pktloss</th>\n",
       "      <th>method</th>\n",
       "      <th>zip</th>\n",
       "      <th>isp</th>\n",
       "      <th>value</th>\n",
       "      <th>topic</th>\n",
       "      <th>annonipaddr</th>\n",
       "      <th>ipaddrchanged</th>\n",
       "    </tr>\n",
       "  </thead>\n",
       "  <tbody>\n",
       "    <tr>\n",
       "      <th>555961</th>\n",
       "      <td>2021-12-31 18:00:05</td>\n",
       "      <td>nm-mngd-20210518-19941862</td>\n",
       "      <td>ping_latency</td>\n",
       "      <td>rtt</td>\n",
       "      <td>icmp</td>\n",
       "      <td>google</td>\n",
       "      <td>9.09091</td>\n",
       "      <td>avg</td>\n",
       "      <td>60649</td>\n",
       "      <td>att</td>\n",
       "      <td>108.639</td>\n",
       "      <td>chicago</td>\n",
       "      <td>108.237.217.0</td>\n",
       "      <td>0</td>\n",
       "    </tr>\n",
       "    <tr>\n",
       "      <th>555961</th>\n",
       "      <td>2021-12-31 18:00:05</td>\n",
       "      <td>nm-mngd-20210518-19941862</td>\n",
       "      <td>ping_latency</td>\n",
       "      <td>rtt</td>\n",
       "      <td>icmp</td>\n",
       "      <td>google</td>\n",
       "      <td>9.09091</td>\n",
       "      <td>avg</td>\n",
       "      <td>60649</td>\n",
       "      <td>att</td>\n",
       "      <td>108.639</td>\n",
       "      <td>chicago</td>\n",
       "      <td>108.237.217.0</td>\n",
       "      <td>0</td>\n",
       "    </tr>\n",
       "    <tr>\n",
       "      <th>538492</th>\n",
       "      <td>2021-12-31 18:01:33</td>\n",
       "      <td>nm-mngd-20210518-19941862</td>\n",
       "      <td>ping_latency</td>\n",
       "      <td>rtt</td>\n",
       "      <td>icmp</td>\n",
       "      <td>Chicago</td>\n",
       "      <td>0.00000</td>\n",
       "      <td>avg</td>\n",
       "      <td>60649</td>\n",
       "      <td>att</td>\n",
       "      <td>22.307</td>\n",
       "      <td>chicago</td>\n",
       "      <td>108.237.217.0</td>\n",
       "      <td>0</td>\n",
       "    </tr>\n",
       "    <tr>\n",
       "      <th>538540</th>\n",
       "      <td>2021-12-31 18:01:33</td>\n",
       "      <td>nm-mngd-20210518-19941862</td>\n",
       "      <td>ping_latency</td>\n",
       "      <td>rtt</td>\n",
       "      <td>icmp</td>\n",
       "      <td>tribune</td>\n",
       "      <td>0.00000</td>\n",
       "      <td>avg</td>\n",
       "      <td>60649</td>\n",
       "      <td>att</td>\n",
       "      <td>34.187</td>\n",
       "      <td>chicago</td>\n",
       "      <td>108.237.217.0</td>\n",
       "      <td>0</td>\n",
       "    </tr>\n",
       "    <tr>\n",
       "      <th>538536</th>\n",
       "      <td>2021-12-31 18:01:33</td>\n",
       "      <td>nm-mngd-20210518-19941862</td>\n",
       "      <td>ping_latency</td>\n",
       "      <td>rtt</td>\n",
       "      <td>icmp</td>\n",
       "      <td>suntimes</td>\n",
       "      <td>0.00000</td>\n",
       "      <td>avg</td>\n",
       "      <td>60649</td>\n",
       "      <td>att</td>\n",
       "      <td>34.252</td>\n",
       "      <td>chicago</td>\n",
       "      <td>108.237.217.0</td>\n",
       "      <td>0</td>\n",
       "    </tr>\n",
       "  </tbody>\n",
       "</table>\n",
       "</div>"
      ],
      "text/plain": [
       "                       time                   deviceid          tool  \\\n",
       "555961  2021-12-31 18:00:05  nm-mngd-20210518-19941862  ping_latency   \n",
       "555961  2021-12-31 18:00:05  nm-mngd-20210518-19941862  ping_latency   \n",
       "538492  2021-12-31 18:01:33  nm-mngd-20210518-19941862  ping_latency   \n",
       "538540  2021-12-31 18:01:33  nm-mngd-20210518-19941862  ping_latency   \n",
       "538536  2021-12-31 18:01:33  nm-mngd-20210518-19941862  ping_latency   \n",
       "\n",
       "       direction protocol    target  pktloss method    zip  isp    value  \\\n",
       "555961       rtt     icmp    google  9.09091    avg  60649  att  108.639   \n",
       "555961       rtt     icmp    google  9.09091    avg  60649  att  108.639   \n",
       "538492       rtt     icmp   Chicago  0.00000    avg  60649  att   22.307   \n",
       "538540       rtt     icmp   tribune  0.00000    avg  60649  att   34.187   \n",
       "538536       rtt     icmp  suntimes  0.00000    avg  60649  att   34.252   \n",
       "\n",
       "          topic    annonipaddr ipaddrchanged  \n",
       "555961  chicago  108.237.217.0             0  \n",
       "555961  chicago  108.237.217.0             0  \n",
       "538492  chicago  108.237.217.0             0  \n",
       "538540  chicago  108.237.217.0             0  \n",
       "538536  chicago  108.237.217.0             0  "
      ]
     },
     "execution_count": 9,
     "metadata": {},
     "output_type": "execute_result"
    }
   ],
   "source": [
    "#sorted out the avg method from the original df\n",
    "data2022_avg = data2022.loc[data2022['method'] == 'avg']\n",
    "data2022_avg.head()"
   ]
  },
  {
   "cell_type": "code",
   "execution_count": 10,
   "id": "5a085db5-44fb-458b-990c-754e6fcc7826",
   "metadata": {
    "tags": []
   },
   "outputs": [
    {
     "data": {
      "text/html": [
       "<div>\n",
       "<style scoped>\n",
       "    .dataframe tbody tr th:only-of-type {\n",
       "        vertical-align: middle;\n",
       "    }\n",
       "\n",
       "    .dataframe tbody tr th {\n",
       "        vertical-align: top;\n",
       "    }\n",
       "\n",
       "    .dataframe thead th {\n",
       "        text-align: right;\n",
       "    }\n",
       "</style>\n",
       "<table border=\"1\" class=\"dataframe\">\n",
       "  <thead>\n",
       "    <tr style=\"text-align: right;\">\n",
       "      <th></th>\n",
       "      <th>time</th>\n",
       "      <th>deviceid</th>\n",
       "      <th>tool</th>\n",
       "      <th>direction</th>\n",
       "      <th>protocol</th>\n",
       "      <th>target</th>\n",
       "      <th>pktloss</th>\n",
       "      <th>method</th>\n",
       "      <th>zip</th>\n",
       "      <th>isp</th>\n",
       "      <th>value</th>\n",
       "      <th>topic</th>\n",
       "      <th>annonipaddr</th>\n",
       "      <th>ipaddrchanged</th>\n",
       "    </tr>\n",
       "  </thead>\n",
       "  <tbody>\n",
       "    <tr>\n",
       "      <th>538492</th>\n",
       "      <td>2021-12-31 18:01:33</td>\n",
       "      <td>nm-mngd-20210518-19941862</td>\n",
       "      <td>ping_latency</td>\n",
       "      <td>rtt</td>\n",
       "      <td>icmp</td>\n",
       "      <td>Chicago</td>\n",
       "      <td>0.0</td>\n",
       "      <td>avg</td>\n",
       "      <td>60649</td>\n",
       "      <td>att</td>\n",
       "      <td>22.307</td>\n",
       "      <td>chicago</td>\n",
       "      <td>108.237.217.0</td>\n",
       "      <td>0</td>\n",
       "    </tr>\n",
       "    <tr>\n",
       "      <th>538488</th>\n",
       "      <td>2021-12-31 18:01:33</td>\n",
       "      <td>nm-mngd-20210518-19941862</td>\n",
       "      <td>ping_latency</td>\n",
       "      <td>rtt</td>\n",
       "      <td>icmp</td>\n",
       "      <td>Atlanta</td>\n",
       "      <td>0.0</td>\n",
       "      <td>avg</td>\n",
       "      <td>60649</td>\n",
       "      <td>att</td>\n",
       "      <td>95.486</td>\n",
       "      <td>chicago</td>\n",
       "      <td>108.237.217.0</td>\n",
       "      <td>0</td>\n",
       "    </tr>\n",
       "    <tr>\n",
       "      <th>538492</th>\n",
       "      <td>2021-12-31 18:01:33</td>\n",
       "      <td>nm-mngd-20210518-19941862</td>\n",
       "      <td>ping_latency</td>\n",
       "      <td>rtt</td>\n",
       "      <td>icmp</td>\n",
       "      <td>Chicago</td>\n",
       "      <td>0.0</td>\n",
       "      <td>avg</td>\n",
       "      <td>60649</td>\n",
       "      <td>att</td>\n",
       "      <td>22.307</td>\n",
       "      <td>chicago</td>\n",
       "      <td>108.237.217.0</td>\n",
       "      <td>0</td>\n",
       "    </tr>\n",
       "    <tr>\n",
       "      <th>538508</th>\n",
       "      <td>2021-12-31 18:01:33</td>\n",
       "      <td>nm-mngd-20210518-19941862</td>\n",
       "      <td>ping_latency</td>\n",
       "      <td>rtt</td>\n",
       "      <td>icmp</td>\n",
       "      <td>Seattle</td>\n",
       "      <td>0.0</td>\n",
       "      <td>avg</td>\n",
       "      <td>60649</td>\n",
       "      <td>att</td>\n",
       "      <td>84.930</td>\n",
       "      <td>chicago</td>\n",
       "      <td>108.237.217.0</td>\n",
       "      <td>0</td>\n",
       "    </tr>\n",
       "    <tr>\n",
       "      <th>538488</th>\n",
       "      <td>2021-12-31 18:01:33</td>\n",
       "      <td>nm-mngd-20210518-19941862</td>\n",
       "      <td>ping_latency</td>\n",
       "      <td>rtt</td>\n",
       "      <td>icmp</td>\n",
       "      <td>Atlanta</td>\n",
       "      <td>0.0</td>\n",
       "      <td>avg</td>\n",
       "      <td>60649</td>\n",
       "      <td>att</td>\n",
       "      <td>95.486</td>\n",
       "      <td>chicago</td>\n",
       "      <td>108.237.217.0</td>\n",
       "      <td>0</td>\n",
       "    </tr>\n",
       "  </tbody>\n",
       "</table>\n",
       "</div>"
      ],
      "text/plain": [
       "                       time                   deviceid          tool  \\\n",
       "538492  2021-12-31 18:01:33  nm-mngd-20210518-19941862  ping_latency   \n",
       "538488  2021-12-31 18:01:33  nm-mngd-20210518-19941862  ping_latency   \n",
       "538492  2021-12-31 18:01:33  nm-mngd-20210518-19941862  ping_latency   \n",
       "538508  2021-12-31 18:01:33  nm-mngd-20210518-19941862  ping_latency   \n",
       "538488  2021-12-31 18:01:33  nm-mngd-20210518-19941862  ping_latency   \n",
       "\n",
       "       direction protocol   target  pktloss method    zip  isp   value  \\\n",
       "538492       rtt     icmp  Chicago      0.0    avg  60649  att  22.307   \n",
       "538488       rtt     icmp  Atlanta      0.0    avg  60649  att  95.486   \n",
       "538492       rtt     icmp  Chicago      0.0    avg  60649  att  22.307   \n",
       "538508       rtt     icmp  Seattle      0.0    avg  60649  att  84.930   \n",
       "538488       rtt     icmp  Atlanta      0.0    avg  60649  att  95.486   \n",
       "\n",
       "          topic    annonipaddr ipaddrchanged  \n",
       "538492  chicago  108.237.217.0             0  \n",
       "538488  chicago  108.237.217.0             0  \n",
       "538492  chicago  108.237.217.0             0  \n",
       "538508  chicago  108.237.217.0             0  \n",
       "538488  chicago  108.237.217.0             0  "
      ]
     },
     "execution_count": 10,
     "metadata": {},
     "output_type": "execute_result"
    }
   ],
   "source": [
    "#create a new dataframe with only Atlanta, Seattle, and Chicago\n",
    "data2022_serv = data2022_avg.loc[data2022_avg['target'].isin(['Atlanta', 'Seattle', 'Chicago'])]\n",
    "data2022_serv.head()"
   ]
  },
  {
   "cell_type": "code",
   "execution_count": 11,
   "id": "26fb3148-88a1-4a28-ac5c-c8dc4673fac3",
   "metadata": {
    "tags": []
   },
   "outputs": [
    {
     "name": "stderr",
     "output_type": "stream",
     "text": [
      "/tmp/ipykernel_2037028/1082007395.py:14: SettingWithCopyWarning: \n",
      "A value is trying to be set on a copy of a slice from a DataFrame.\n",
      "Try using .loc[row_indexer,col_indexer] = value instead\n",
      "\n",
      "See the caveats in the documentation: https://pandas.pydata.org/pandas-docs/stable/user_guide/indexing.html#returning-a-view-versus-a-copy\n",
      "  data2022_serv['hour'] = data2022_serv['time'].apply(split_hour)\n",
      "/tmp/ipykernel_2037028/1082007395.py:15: SettingWithCopyWarning: \n",
      "A value is trying to be set on a copy of a slice from a DataFrame.\n",
      "Try using .loc[row_indexer,col_indexer] = value instead\n",
      "\n",
      "See the caveats in the documentation: https://pandas.pydata.org/pandas-docs/stable/user_guide/indexing.html#returning-a-view-versus-a-copy\n",
      "  data2022_serv['date'] = data2022_serv['time'].apply(split_date)\n",
      "/tmp/ipykernel_2037028/1082007395.py:16: SettingWithCopyWarning: \n",
      "A value is trying to be set on a copy of a slice from a DataFrame.\n",
      "Try using .loc[row_indexer,col_indexer] = value instead\n",
      "\n",
      "See the caveats in the documentation: https://pandas.pydata.org/pandas-docs/stable/user_guide/indexing.html#returning-a-view-versus-a-copy\n",
      "  data2022_serv['month'] = data2022_serv['time'].apply(split_month)\n"
     ]
    },
    {
     "data": {
      "text/html": [
       "<div>\n",
       "<style scoped>\n",
       "    .dataframe tbody tr th:only-of-type {\n",
       "        vertical-align: middle;\n",
       "    }\n",
       "\n",
       "    .dataframe tbody tr th {\n",
       "        vertical-align: top;\n",
       "    }\n",
       "\n",
       "    .dataframe thead th {\n",
       "        text-align: right;\n",
       "    }\n",
       "</style>\n",
       "<table border=\"1\" class=\"dataframe\">\n",
       "  <thead>\n",
       "    <tr style=\"text-align: right;\">\n",
       "      <th></th>\n",
       "      <th>time</th>\n",
       "      <th>deviceid</th>\n",
       "      <th>tool</th>\n",
       "      <th>direction</th>\n",
       "      <th>protocol</th>\n",
       "      <th>target</th>\n",
       "      <th>pktloss</th>\n",
       "      <th>method</th>\n",
       "      <th>zip</th>\n",
       "      <th>isp</th>\n",
       "      <th>value</th>\n",
       "      <th>topic</th>\n",
       "      <th>annonipaddr</th>\n",
       "      <th>ipaddrchanged</th>\n",
       "      <th>hour</th>\n",
       "      <th>date</th>\n",
       "      <th>month</th>\n",
       "    </tr>\n",
       "  </thead>\n",
       "  <tbody>\n",
       "    <tr>\n",
       "      <th>538492</th>\n",
       "      <td>2021-12-31 18:01:33</td>\n",
       "      <td>nm-mngd-20210518-19941862</td>\n",
       "      <td>ping_latency</td>\n",
       "      <td>rtt</td>\n",
       "      <td>icmp</td>\n",
       "      <td>Chicago</td>\n",
       "      <td>0.0</td>\n",
       "      <td>avg</td>\n",
       "      <td>60649</td>\n",
       "      <td>att</td>\n",
       "      <td>22.307</td>\n",
       "      <td>chicago</td>\n",
       "      <td>108.237.217.0</td>\n",
       "      <td>0</td>\n",
       "      <td>18</td>\n",
       "      <td>12-31</td>\n",
       "      <td>12</td>\n",
       "    </tr>\n",
       "    <tr>\n",
       "      <th>538488</th>\n",
       "      <td>2021-12-31 18:01:33</td>\n",
       "      <td>nm-mngd-20210518-19941862</td>\n",
       "      <td>ping_latency</td>\n",
       "      <td>rtt</td>\n",
       "      <td>icmp</td>\n",
       "      <td>Atlanta</td>\n",
       "      <td>0.0</td>\n",
       "      <td>avg</td>\n",
       "      <td>60649</td>\n",
       "      <td>att</td>\n",
       "      <td>95.486</td>\n",
       "      <td>chicago</td>\n",
       "      <td>108.237.217.0</td>\n",
       "      <td>0</td>\n",
       "      <td>18</td>\n",
       "      <td>12-31</td>\n",
       "      <td>12</td>\n",
       "    </tr>\n",
       "    <tr>\n",
       "      <th>538492</th>\n",
       "      <td>2021-12-31 18:01:33</td>\n",
       "      <td>nm-mngd-20210518-19941862</td>\n",
       "      <td>ping_latency</td>\n",
       "      <td>rtt</td>\n",
       "      <td>icmp</td>\n",
       "      <td>Chicago</td>\n",
       "      <td>0.0</td>\n",
       "      <td>avg</td>\n",
       "      <td>60649</td>\n",
       "      <td>att</td>\n",
       "      <td>22.307</td>\n",
       "      <td>chicago</td>\n",
       "      <td>108.237.217.0</td>\n",
       "      <td>0</td>\n",
       "      <td>18</td>\n",
       "      <td>12-31</td>\n",
       "      <td>12</td>\n",
       "    </tr>\n",
       "    <tr>\n",
       "      <th>538508</th>\n",
       "      <td>2021-12-31 18:01:33</td>\n",
       "      <td>nm-mngd-20210518-19941862</td>\n",
       "      <td>ping_latency</td>\n",
       "      <td>rtt</td>\n",
       "      <td>icmp</td>\n",
       "      <td>Seattle</td>\n",
       "      <td>0.0</td>\n",
       "      <td>avg</td>\n",
       "      <td>60649</td>\n",
       "      <td>att</td>\n",
       "      <td>84.930</td>\n",
       "      <td>chicago</td>\n",
       "      <td>108.237.217.0</td>\n",
       "      <td>0</td>\n",
       "      <td>18</td>\n",
       "      <td>12-31</td>\n",
       "      <td>12</td>\n",
       "    </tr>\n",
       "    <tr>\n",
       "      <th>538488</th>\n",
       "      <td>2021-12-31 18:01:33</td>\n",
       "      <td>nm-mngd-20210518-19941862</td>\n",
       "      <td>ping_latency</td>\n",
       "      <td>rtt</td>\n",
       "      <td>icmp</td>\n",
       "      <td>Atlanta</td>\n",
       "      <td>0.0</td>\n",
       "      <td>avg</td>\n",
       "      <td>60649</td>\n",
       "      <td>att</td>\n",
       "      <td>95.486</td>\n",
       "      <td>chicago</td>\n",
       "      <td>108.237.217.0</td>\n",
       "      <td>0</td>\n",
       "      <td>18</td>\n",
       "      <td>12-31</td>\n",
       "      <td>12</td>\n",
       "    </tr>\n",
       "  </tbody>\n",
       "</table>\n",
       "</div>"
      ],
      "text/plain": [
       "                       time                   deviceid          tool  \\\n",
       "538492  2021-12-31 18:01:33  nm-mngd-20210518-19941862  ping_latency   \n",
       "538488  2021-12-31 18:01:33  nm-mngd-20210518-19941862  ping_latency   \n",
       "538492  2021-12-31 18:01:33  nm-mngd-20210518-19941862  ping_latency   \n",
       "538508  2021-12-31 18:01:33  nm-mngd-20210518-19941862  ping_latency   \n",
       "538488  2021-12-31 18:01:33  nm-mngd-20210518-19941862  ping_latency   \n",
       "\n",
       "       direction protocol   target  pktloss method    zip  isp   value  \\\n",
       "538492       rtt     icmp  Chicago      0.0    avg  60649  att  22.307   \n",
       "538488       rtt     icmp  Atlanta      0.0    avg  60649  att  95.486   \n",
       "538492       rtt     icmp  Chicago      0.0    avg  60649  att  22.307   \n",
       "538508       rtt     icmp  Seattle      0.0    avg  60649  att  84.930   \n",
       "538488       rtt     icmp  Atlanta      0.0    avg  60649  att  95.486   \n",
       "\n",
       "          topic    annonipaddr ipaddrchanged hour   date month  \n",
       "538492  chicago  108.237.217.0             0   18  12-31    12  \n",
       "538488  chicago  108.237.217.0             0   18  12-31    12  \n",
       "538492  chicago  108.237.217.0             0   18  12-31    12  \n",
       "538508  chicago  108.237.217.0             0   18  12-31    12  \n",
       "538488  chicago  108.237.217.0             0   18  12-31    12  "
      ]
     },
     "execution_count": 11,
     "metadata": {},
     "output_type": "execute_result"
    }
   ],
   "source": [
    "#Created functions to split the time column by date, time, & month\n",
    "def split_hour(x):\n",
    "    row = x\n",
    "    return row[11:13]\n",
    "\n",
    "def split_date(x):\n",
    "    row = x\n",
    "    return row[5:10]\n",
    "def split_month(x):\n",
    "    row = x\n",
    "    return row[5:7]\n",
    "\n",
    "#Created individual columns for hour/date/month\n",
    "data2022_serv['hour'] = data2022_serv['time'].apply(split_hour)\n",
    "data2022_serv['date'] = data2022_serv['time'].apply(split_date)\n",
    "data2022_serv['month'] = data2022_serv['time'].apply(split_month)\n",
    "data2022_serv.head()"
   ]
  },
  {
   "cell_type": "code",
   "execution_count": 12,
   "id": "f9cafe3e-b110-4c78-8fe8-e338e84b44d5",
   "metadata": {
    "tags": []
   },
   "outputs": [
    {
     "name": "stdout",
     "output_type": "stream",
     "text": [
      "119.59593364824433\n"
     ]
    },
    {
     "data": {
      "text/plain": [
       "538492    False\n",
       "538488    False\n",
       "538492    False\n",
       "538508    False\n",
       "538488    False\n",
       "Name: value, dtype: bool"
      ]
     },
     "execution_count": 12,
     "metadata": {},
     "output_type": "execute_result"
    }
   ],
   "source": [
    "#We need this code to show what the standard deviation threshold is.\n",
    "def anomaly_detec (x):\n",
    "    stdev_threshold = x.std()*2 + x.mean()\n",
    "    print(stdev_threshold)\n",
    "    anomaly_count = x >= stdev_threshold\n",
    "    return anomaly_count\n",
    "\n",
    "anomaly_detec(data2022_serv['value']).head()"
   ]
  },
  {
   "cell_type": "code",
   "execution_count": 13,
   "id": "ad112aa9-d7dc-44b0-8eb4-b85df2a5b04c",
   "metadata": {
    "tags": []
   },
   "outputs": [
    {
     "name": "stdout",
     "output_type": "stream",
     "text": [
      "119.59593364824433\n"
     ]
    },
    {
     "name": "stderr",
     "output_type": "stream",
     "text": [
      "/tmp/ipykernel_2037028/2981494523.py:2: SettingWithCopyWarning: \n",
      "A value is trying to be set on a copy of a slice from a DataFrame.\n",
      "Try using .loc[row_indexer,col_indexer] = value instead\n",
      "\n",
      "See the caveats in the documentation: https://pandas.pydata.org/pandas-docs/stable/user_guide/indexing.html#returning-a-view-versus-a-copy\n",
      "  data2022_serv[\"anomalytotal\"] = anomaly_detec(data2022_serv['value'])\n"
     ]
    }
   ],
   "source": [
    "#Created a column that identified whether there was an anomaly in each row\n",
    "data2022_serv[\"anomalytotal\"] = anomaly_detec(data2022_serv['value'])\n",
    "\n",
    "pd.set_option('display.max_rows', None)\n"
   ]
  },
  {
   "cell_type": "code",
   "execution_count": 14,
   "id": "e55e8660-ccb2-46d1-8a50-48c26a7d6aea",
   "metadata": {
    "tags": []
   },
   "outputs": [
    {
     "data": {
      "text/plain": [
       "164977    False\n",
       "164993    False\n",
       "157454    False\n",
       "157438    False\n",
       "157434    False\n",
       "Name: anomalytotal, dtype: bool"
      ]
     },
     "execution_count": 14,
     "metadata": {},
     "output_type": "execute_result"
    }
   ],
   "source": [
    "data2022_serv[\"anomalytotal\"].tail()"
   ]
  },
  {
   "cell_type": "code",
   "execution_count": 15,
   "id": "6f8e1a62-7520-4689-bac9-6eaa9d7ca045",
   "metadata": {
    "tags": []
   },
   "outputs": [
    {
     "data": {
      "text/html": [
       "<div>\n",
       "<style scoped>\n",
       "    .dataframe tbody tr th:only-of-type {\n",
       "        vertical-align: middle;\n",
       "    }\n",
       "\n",
       "    .dataframe tbody tr th {\n",
       "        vertical-align: top;\n",
       "    }\n",
       "\n",
       "    .dataframe thead th {\n",
       "        text-align: right;\n",
       "    }\n",
       "</style>\n",
       "<table border=\"1\" class=\"dataframe\">\n",
       "  <thead>\n",
       "    <tr style=\"text-align: right;\">\n",
       "      <th></th>\n",
       "      <th></th>\n",
       "      <th></th>\n",
       "      <th>anomalytotal</th>\n",
       "    </tr>\n",
       "    <tr>\n",
       "      <th>month</th>\n",
       "      <th>date</th>\n",
       "      <th>target</th>\n",
       "      <th></th>\n",
       "    </tr>\n",
       "  </thead>\n",
       "  <tbody>\n",
       "    <tr>\n",
       "      <th rowspan=\"5\" valign=\"top\">01</th>\n",
       "      <th rowspan=\"3\" valign=\"top\">01-01</th>\n",
       "      <th>Atlanta</th>\n",
       "      <td>40</td>\n",
       "    </tr>\n",
       "    <tr>\n",
       "      <th>Chicago</th>\n",
       "      <td>14</td>\n",
       "    </tr>\n",
       "    <tr>\n",
       "      <th>Seattle</th>\n",
       "      <td>50</td>\n",
       "    </tr>\n",
       "    <tr>\n",
       "      <th rowspan=\"2\" valign=\"top\">01-02</th>\n",
       "      <th>Atlanta</th>\n",
       "      <td>78</td>\n",
       "    </tr>\n",
       "    <tr>\n",
       "      <th>Chicago</th>\n",
       "      <td>46</td>\n",
       "    </tr>\n",
       "  </tbody>\n",
       "</table>\n",
       "</div>"
      ],
      "text/plain": [
       "                     anomalytotal\n",
       "month date  target               \n",
       "01    01-01 Atlanta            40\n",
       "            Chicago            14\n",
       "            Seattle            50\n",
       "      01-02 Atlanta            78\n",
       "            Chicago            46"
      ]
     },
     "execution_count": 15,
     "metadata": {},
     "output_type": "execute_result"
    }
   ],
   "source": [
    "#Created a df that only displayed the month, date, target, and anomaly total for that day per server\n",
    "anomaly_2022 = data2022_serv.groupby(['month','date','target'])[['anomalytotal']].sum()\n",
    "anomaly_2022.head()"
   ]
  },
  {
   "cell_type": "code",
   "execution_count": 16,
   "id": "58521234-3a05-465b-9702-750826bef7df",
   "metadata": {},
   "outputs": [
    {
     "data": {
      "text/html": [
       "<div>\n",
       "<style scoped>\n",
       "    .dataframe tbody tr th:only-of-type {\n",
       "        vertical-align: middle;\n",
       "    }\n",
       "\n",
       "    .dataframe tbody tr th {\n",
       "        vertical-align: top;\n",
       "    }\n",
       "\n",
       "    .dataframe thead th {\n",
       "        text-align: right;\n",
       "    }\n",
       "</style>\n",
       "<table border=\"1\" class=\"dataframe\">\n",
       "  <thead>\n",
       "    <tr style=\"text-align: right;\">\n",
       "      <th></th>\n",
       "      <th>month</th>\n",
       "      <th>target</th>\n",
       "      <th>anomalytotal</th>\n",
       "    </tr>\n",
       "  </thead>\n",
       "  <tbody>\n",
       "    <tr>\n",
       "      <th>0</th>\n",
       "      <td>01</td>\n",
       "      <td>Atlanta</td>\n",
       "      <td>28.0</td>\n",
       "    </tr>\n",
       "    <tr>\n",
       "      <th>1</th>\n",
       "      <td>01</td>\n",
       "      <td>Chicago</td>\n",
       "      <td>14.0</td>\n",
       "    </tr>\n",
       "    <tr>\n",
       "      <th>2</th>\n",
       "      <td>01</td>\n",
       "      <td>Seattle</td>\n",
       "      <td>42.0</td>\n",
       "    </tr>\n",
       "    <tr>\n",
       "      <th>3</th>\n",
       "      <td>02</td>\n",
       "      <td>Atlanta</td>\n",
       "      <td>15.5</td>\n",
       "    </tr>\n",
       "    <tr>\n",
       "      <th>4</th>\n",
       "      <td>02</td>\n",
       "      <td>Chicago</td>\n",
       "      <td>13.0</td>\n",
       "    </tr>\n",
       "    <tr>\n",
       "      <th>5</th>\n",
       "      <td>02</td>\n",
       "      <td>Seattle</td>\n",
       "      <td>21.5</td>\n",
       "    </tr>\n",
       "    <tr>\n",
       "      <th>6</th>\n",
       "      <td>03</td>\n",
       "      <td>Atlanta</td>\n",
       "      <td>12.0</td>\n",
       "    </tr>\n",
       "    <tr>\n",
       "      <th>7</th>\n",
       "      <td>03</td>\n",
       "      <td>Chicago</td>\n",
       "      <td>7.0</td>\n",
       "    </tr>\n",
       "    <tr>\n",
       "      <th>8</th>\n",
       "      <td>03</td>\n",
       "      <td>Seattle</td>\n",
       "      <td>18.0</td>\n",
       "    </tr>\n",
       "    <tr>\n",
       "      <th>9</th>\n",
       "      <td>04</td>\n",
       "      <td>Atlanta</td>\n",
       "      <td>0.0</td>\n",
       "    </tr>\n",
       "    <tr>\n",
       "      <th>10</th>\n",
       "      <td>04</td>\n",
       "      <td>Chicago</td>\n",
       "      <td>0.0</td>\n",
       "    </tr>\n",
       "    <tr>\n",
       "      <th>11</th>\n",
       "      <td>04</td>\n",
       "      <td>Seattle</td>\n",
       "      <td>0.0</td>\n",
       "    </tr>\n",
       "    <tr>\n",
       "      <th>12</th>\n",
       "      <td>05</td>\n",
       "      <td>Atlanta</td>\n",
       "      <td>0.0</td>\n",
       "    </tr>\n",
       "    <tr>\n",
       "      <th>13</th>\n",
       "      <td>05</td>\n",
       "      <td>Chicago</td>\n",
       "      <td>0.0</td>\n",
       "    </tr>\n",
       "    <tr>\n",
       "      <th>14</th>\n",
       "      <td>05</td>\n",
       "      <td>Seattle</td>\n",
       "      <td>0.0</td>\n",
       "    </tr>\n",
       "    <tr>\n",
       "      <th>15</th>\n",
       "      <td>06</td>\n",
       "      <td>Atlanta</td>\n",
       "      <td>0.0</td>\n",
       "    </tr>\n",
       "    <tr>\n",
       "      <th>16</th>\n",
       "      <td>06</td>\n",
       "      <td>Chicago</td>\n",
       "      <td>0.0</td>\n",
       "    </tr>\n",
       "    <tr>\n",
       "      <th>17</th>\n",
       "      <td>06</td>\n",
       "      <td>Seattle</td>\n",
       "      <td>0.0</td>\n",
       "    </tr>\n",
       "    <tr>\n",
       "      <th>18</th>\n",
       "      <td>07</td>\n",
       "      <td>Atlanta</td>\n",
       "      <td>0.0</td>\n",
       "    </tr>\n",
       "    <tr>\n",
       "      <th>19</th>\n",
       "      <td>07</td>\n",
       "      <td>Chicago</td>\n",
       "      <td>0.0</td>\n",
       "    </tr>\n",
       "    <tr>\n",
       "      <th>20</th>\n",
       "      <td>07</td>\n",
       "      <td>Seattle</td>\n",
       "      <td>0.0</td>\n",
       "    </tr>\n",
       "    <tr>\n",
       "      <th>21</th>\n",
       "      <td>08</td>\n",
       "      <td>Atlanta</td>\n",
       "      <td>0.0</td>\n",
       "    </tr>\n",
       "    <tr>\n",
       "      <th>22</th>\n",
       "      <td>08</td>\n",
       "      <td>Chicago</td>\n",
       "      <td>0.0</td>\n",
       "    </tr>\n",
       "    <tr>\n",
       "      <th>23</th>\n",
       "      <td>08</td>\n",
       "      <td>Seattle</td>\n",
       "      <td>0.0</td>\n",
       "    </tr>\n",
       "    <tr>\n",
       "      <th>24</th>\n",
       "      <td>09</td>\n",
       "      <td>Atlanta</td>\n",
       "      <td>0.0</td>\n",
       "    </tr>\n",
       "    <tr>\n",
       "      <th>25</th>\n",
       "      <td>09</td>\n",
       "      <td>Chicago</td>\n",
       "      <td>0.0</td>\n",
       "    </tr>\n",
       "    <tr>\n",
       "      <th>26</th>\n",
       "      <td>09</td>\n",
       "      <td>Seattle</td>\n",
       "      <td>0.0</td>\n",
       "    </tr>\n",
       "    <tr>\n",
       "      <th>27</th>\n",
       "      <td>10</td>\n",
       "      <td>Atlanta</td>\n",
       "      <td>0.0</td>\n",
       "    </tr>\n",
       "    <tr>\n",
       "      <th>28</th>\n",
       "      <td>10</td>\n",
       "      <td>Chicago</td>\n",
       "      <td>0.0</td>\n",
       "    </tr>\n",
       "    <tr>\n",
       "      <th>29</th>\n",
       "      <td>10</td>\n",
       "      <td>Seattle</td>\n",
       "      <td>0.0</td>\n",
       "    </tr>\n",
       "    <tr>\n",
       "      <th>30</th>\n",
       "      <td>11</td>\n",
       "      <td>Atlanta</td>\n",
       "      <td>0.0</td>\n",
       "    </tr>\n",
       "    <tr>\n",
       "      <th>31</th>\n",
       "      <td>11</td>\n",
       "      <td>Chicago</td>\n",
       "      <td>0.0</td>\n",
       "    </tr>\n",
       "    <tr>\n",
       "      <th>32</th>\n",
       "      <td>11</td>\n",
       "      <td>Seattle</td>\n",
       "      <td>0.0</td>\n",
       "    </tr>\n",
       "    <tr>\n",
       "      <th>33</th>\n",
       "      <td>12</td>\n",
       "      <td>Atlanta</td>\n",
       "      <td>0.0</td>\n",
       "    </tr>\n",
       "    <tr>\n",
       "      <th>34</th>\n",
       "      <td>12</td>\n",
       "      <td>Chicago</td>\n",
       "      <td>0.0</td>\n",
       "    </tr>\n",
       "    <tr>\n",
       "      <th>35</th>\n",
       "      <td>12</td>\n",
       "      <td>Seattle</td>\n",
       "      <td>8.0</td>\n",
       "    </tr>\n",
       "  </tbody>\n",
       "</table>\n",
       "</div>"
      ],
      "text/plain": [
       "   month   target  anomalytotal\n",
       "0     01  Atlanta          28.0\n",
       "1     01  Chicago          14.0\n",
       "2     01  Seattle          42.0\n",
       "3     02  Atlanta          15.5\n",
       "4     02  Chicago          13.0\n",
       "5     02  Seattle          21.5\n",
       "6     03  Atlanta          12.0\n",
       "7     03  Chicago           7.0\n",
       "8     03  Seattle          18.0\n",
       "9     04  Atlanta           0.0\n",
       "10    04  Chicago           0.0\n",
       "11    04  Seattle           0.0\n",
       "12    05  Atlanta           0.0\n",
       "13    05  Chicago           0.0\n",
       "14    05  Seattle           0.0\n",
       "15    06  Atlanta           0.0\n",
       "16    06  Chicago           0.0\n",
       "17    06  Seattle           0.0\n",
       "18    07  Atlanta           0.0\n",
       "19    07  Chicago           0.0\n",
       "20    07  Seattle           0.0\n",
       "21    08  Atlanta           0.0\n",
       "22    08  Chicago           0.0\n",
       "23    08  Seattle           0.0\n",
       "24    09  Atlanta           0.0\n",
       "25    09  Chicago           0.0\n",
       "26    09  Seattle           0.0\n",
       "27    10  Atlanta           0.0\n",
       "28    10  Chicago           0.0\n",
       "29    10  Seattle           0.0\n",
       "30    11  Atlanta           0.0\n",
       "31    11  Chicago           0.0\n",
       "32    11  Seattle           0.0\n",
       "33    12  Atlanta           0.0\n",
       "34    12  Chicago           0.0\n",
       "35    12  Seattle           8.0"
      ]
     },
     "execution_count": 16,
     "metadata": {},
     "output_type": "execute_result"
    }
   ],
   "source": [
    "#This df shows the median anomalies per month per server\n",
    "#Had to reset the index at this point in order for the dropdwn code to read the month column\n",
    "anomalymonth_2022 = anomaly_2022.groupby(['month','target'])[['anomalytotal']].median().reset_index()\n",
    "anomalymonth_2022\n"
   ]
  },
  {
   "cell_type": "code",
   "execution_count": 17,
   "id": "b83da2b9-9db6-4cc0-ae7b-0cb5540a891f",
   "metadata": {
    "tags": []
   },
   "outputs": [],
   "source": [
    "import plotly.graph_objs as go"
   ]
  },
  {
   "cell_type": "code",
   "execution_count": 32,
   "id": "4820d10e-c810-49a9-bf08-f15845002842",
   "metadata": {
    "tags": []
   },
   "outputs": [
    {
     "data": {
      "application/vnd.plotly.v1+json": {
       "config": {
        "plotlyServerURL": "https://plot.ly"
       },
       "data": [
        {
         "name": "Altanta",
         "type": "bar",
         "x": [
          "01",
          "02",
          "03",
          "04",
          "05",
          "06",
          "07",
          "08",
          "09",
          "10",
          "11",
          "12"
         ],
         "y": [
          28,
          15.5,
          12,
          0,
          0,
          0,
          0,
          0,
          0,
          0,
          0,
          0
         ]
        },
        {
         "name": "Seattle",
         "type": "bar",
         "visible": false,
         "x": [
          "01",
          "02",
          "03",
          "04",
          "05",
          "06",
          "07",
          "08",
          "09",
          "10",
          "11",
          "12"
         ],
         "y": [
          42,
          21.5,
          18,
          0,
          0,
          0,
          0,
          0,
          0,
          0,
          0,
          8
         ]
        },
        {
         "name": "Chicago",
         "type": "bar",
         "visible": false,
         "x": [
          "01",
          "02",
          "03",
          "04",
          "05",
          "06",
          "07",
          "08",
          "09",
          "10",
          "11",
          "12"
         ],
         "y": [
          14,
          13,
          7,
          0,
          0,
          0,
          0,
          0,
          0,
          0,
          0,
          0
         ]
        }
       ],
       "layout": {
        "autosize": true,
        "margin": {
         "t": 90
        },
        "template": {
         "data": {
          "bar": [
           {
            "error_x": {
             "color": "#2a3f5f"
            },
            "error_y": {
             "color": "#2a3f5f"
            },
            "marker": {
             "line": {
              "color": "#E5ECF6",
              "width": 0.5
             },
             "pattern": {
              "fillmode": "overlay",
              "size": 10,
              "solidity": 0.2
             }
            },
            "type": "bar"
           }
          ],
          "barpolar": [
           {
            "marker": {
             "line": {
              "color": "#E5ECF6",
              "width": 0.5
             },
             "pattern": {
              "fillmode": "overlay",
              "size": 10,
              "solidity": 0.2
             }
            },
            "type": "barpolar"
           }
          ],
          "carpet": [
           {
            "aaxis": {
             "endlinecolor": "#2a3f5f",
             "gridcolor": "white",
             "linecolor": "white",
             "minorgridcolor": "white",
             "startlinecolor": "#2a3f5f"
            },
            "baxis": {
             "endlinecolor": "#2a3f5f",
             "gridcolor": "white",
             "linecolor": "white",
             "minorgridcolor": "white",
             "startlinecolor": "#2a3f5f"
            },
            "type": "carpet"
           }
          ],
          "choropleth": [
           {
            "colorbar": {
             "outlinewidth": 0,
             "ticks": ""
            },
            "type": "choropleth"
           }
          ],
          "contour": [
           {
            "colorbar": {
             "outlinewidth": 0,
             "ticks": ""
            },
            "colorscale": [
             [
              0,
              "#0d0887"
             ],
             [
              0.1111111111111111,
              "#46039f"
             ],
             [
              0.2222222222222222,
              "#7201a8"
             ],
             [
              0.3333333333333333,
              "#9c179e"
             ],
             [
              0.4444444444444444,
              "#bd3786"
             ],
             [
              0.5555555555555556,
              "#d8576b"
             ],
             [
              0.6666666666666666,
              "#ed7953"
             ],
             [
              0.7777777777777778,
              "#fb9f3a"
             ],
             [
              0.8888888888888888,
              "#fdca26"
             ],
             [
              1,
              "#f0f921"
             ]
            ],
            "type": "contour"
           }
          ],
          "contourcarpet": [
           {
            "colorbar": {
             "outlinewidth": 0,
             "ticks": ""
            },
            "type": "contourcarpet"
           }
          ],
          "heatmap": [
           {
            "colorbar": {
             "outlinewidth": 0,
             "ticks": ""
            },
            "colorscale": [
             [
              0,
              "#0d0887"
             ],
             [
              0.1111111111111111,
              "#46039f"
             ],
             [
              0.2222222222222222,
              "#7201a8"
             ],
             [
              0.3333333333333333,
              "#9c179e"
             ],
             [
              0.4444444444444444,
              "#bd3786"
             ],
             [
              0.5555555555555556,
              "#d8576b"
             ],
             [
              0.6666666666666666,
              "#ed7953"
             ],
             [
              0.7777777777777778,
              "#fb9f3a"
             ],
             [
              0.8888888888888888,
              "#fdca26"
             ],
             [
              1,
              "#f0f921"
             ]
            ],
            "type": "heatmap"
           }
          ],
          "heatmapgl": [
           {
            "colorbar": {
             "outlinewidth": 0,
             "ticks": ""
            },
            "colorscale": [
             [
              0,
              "#0d0887"
             ],
             [
              0.1111111111111111,
              "#46039f"
             ],
             [
              0.2222222222222222,
              "#7201a8"
             ],
             [
              0.3333333333333333,
              "#9c179e"
             ],
             [
              0.4444444444444444,
              "#bd3786"
             ],
             [
              0.5555555555555556,
              "#d8576b"
             ],
             [
              0.6666666666666666,
              "#ed7953"
             ],
             [
              0.7777777777777778,
              "#fb9f3a"
             ],
             [
              0.8888888888888888,
              "#fdca26"
             ],
             [
              1,
              "#f0f921"
             ]
            ],
            "type": "heatmapgl"
           }
          ],
          "histogram": [
           {
            "marker": {
             "pattern": {
              "fillmode": "overlay",
              "size": 10,
              "solidity": 0.2
             }
            },
            "type": "histogram"
           }
          ],
          "histogram2d": [
           {
            "colorbar": {
             "outlinewidth": 0,
             "ticks": ""
            },
            "colorscale": [
             [
              0,
              "#0d0887"
             ],
             [
              0.1111111111111111,
              "#46039f"
             ],
             [
              0.2222222222222222,
              "#7201a8"
             ],
             [
              0.3333333333333333,
              "#9c179e"
             ],
             [
              0.4444444444444444,
              "#bd3786"
             ],
             [
              0.5555555555555556,
              "#d8576b"
             ],
             [
              0.6666666666666666,
              "#ed7953"
             ],
             [
              0.7777777777777778,
              "#fb9f3a"
             ],
             [
              0.8888888888888888,
              "#fdca26"
             ],
             [
              1,
              "#f0f921"
             ]
            ],
            "type": "histogram2d"
           }
          ],
          "histogram2dcontour": [
           {
            "colorbar": {
             "outlinewidth": 0,
             "ticks": ""
            },
            "colorscale": [
             [
              0,
              "#0d0887"
             ],
             [
              0.1111111111111111,
              "#46039f"
             ],
             [
              0.2222222222222222,
              "#7201a8"
             ],
             [
              0.3333333333333333,
              "#9c179e"
             ],
             [
              0.4444444444444444,
              "#bd3786"
             ],
             [
              0.5555555555555556,
              "#d8576b"
             ],
             [
              0.6666666666666666,
              "#ed7953"
             ],
             [
              0.7777777777777778,
              "#fb9f3a"
             ],
             [
              0.8888888888888888,
              "#fdca26"
             ],
             [
              1,
              "#f0f921"
             ]
            ],
            "type": "histogram2dcontour"
           }
          ],
          "mesh3d": [
           {
            "colorbar": {
             "outlinewidth": 0,
             "ticks": ""
            },
            "type": "mesh3d"
           }
          ],
          "parcoords": [
           {
            "line": {
             "colorbar": {
              "outlinewidth": 0,
              "ticks": ""
             }
            },
            "type": "parcoords"
           }
          ],
          "pie": [
           {
            "automargin": true,
            "type": "pie"
           }
          ],
          "scatter": [
           {
            "fillpattern": {
             "fillmode": "overlay",
             "size": 10,
             "solidity": 0.2
            },
            "type": "scatter"
           }
          ],
          "scatter3d": [
           {
            "line": {
             "colorbar": {
              "outlinewidth": 0,
              "ticks": ""
             }
            },
            "marker": {
             "colorbar": {
              "outlinewidth": 0,
              "ticks": ""
             }
            },
            "type": "scatter3d"
           }
          ],
          "scattercarpet": [
           {
            "marker": {
             "colorbar": {
              "outlinewidth": 0,
              "ticks": ""
             }
            },
            "type": "scattercarpet"
           }
          ],
          "scattergeo": [
           {
            "marker": {
             "colorbar": {
              "outlinewidth": 0,
              "ticks": ""
             }
            },
            "type": "scattergeo"
           }
          ],
          "scattergl": [
           {
            "marker": {
             "colorbar": {
              "outlinewidth": 0,
              "ticks": ""
             }
            },
            "type": "scattergl"
           }
          ],
          "scattermapbox": [
           {
            "marker": {
             "colorbar": {
              "outlinewidth": 0,
              "ticks": ""
             }
            },
            "type": "scattermapbox"
           }
          ],
          "scatterpolar": [
           {
            "marker": {
             "colorbar": {
              "outlinewidth": 0,
              "ticks": ""
             }
            },
            "type": "scatterpolar"
           }
          ],
          "scatterpolargl": [
           {
            "marker": {
             "colorbar": {
              "outlinewidth": 0,
              "ticks": ""
             }
            },
            "type": "scatterpolargl"
           }
          ],
          "scatterternary": [
           {
            "marker": {
             "colorbar": {
              "outlinewidth": 0,
              "ticks": ""
             }
            },
            "type": "scatterternary"
           }
          ],
          "surface": [
           {
            "colorbar": {
             "outlinewidth": 0,
             "ticks": ""
            },
            "colorscale": [
             [
              0,
              "#0d0887"
             ],
             [
              0.1111111111111111,
              "#46039f"
             ],
             [
              0.2222222222222222,
              "#7201a8"
             ],
             [
              0.3333333333333333,
              "#9c179e"
             ],
             [
              0.4444444444444444,
              "#bd3786"
             ],
             [
              0.5555555555555556,
              "#d8576b"
             ],
             [
              0.6666666666666666,
              "#ed7953"
             ],
             [
              0.7777777777777778,
              "#fb9f3a"
             ],
             [
              0.8888888888888888,
              "#fdca26"
             ],
             [
              1,
              "#f0f921"
             ]
            ],
            "type": "surface"
           }
          ],
          "table": [
           {
            "cells": {
             "fill": {
              "color": "#EBF0F8"
             },
             "line": {
              "color": "white"
             }
            },
            "header": {
             "fill": {
              "color": "#C8D4E3"
             },
             "line": {
              "color": "white"
             }
            },
            "type": "table"
           }
          ]
         },
         "layout": {
          "annotationdefaults": {
           "arrowcolor": "#2a3f5f",
           "arrowhead": 0,
           "arrowwidth": 1
          },
          "autotypenumbers": "strict",
          "coloraxis": {
           "colorbar": {
            "outlinewidth": 0,
            "ticks": ""
           }
          },
          "colorscale": {
           "diverging": [
            [
             0,
             "#8e0152"
            ],
            [
             0.1,
             "#c51b7d"
            ],
            [
             0.2,
             "#de77ae"
            ],
            [
             0.3,
             "#f1b6da"
            ],
            [
             0.4,
             "#fde0ef"
            ],
            [
             0.5,
             "#f7f7f7"
            ],
            [
             0.6,
             "#e6f5d0"
            ],
            [
             0.7,
             "#b8e186"
            ],
            [
             0.8,
             "#7fbc41"
            ],
            [
             0.9,
             "#4d9221"
            ],
            [
             1,
             "#276419"
            ]
           ],
           "sequential": [
            [
             0,
             "#0d0887"
            ],
            [
             0.1111111111111111,
             "#46039f"
            ],
            [
             0.2222222222222222,
             "#7201a8"
            ],
            [
             0.3333333333333333,
             "#9c179e"
            ],
            [
             0.4444444444444444,
             "#bd3786"
            ],
            [
             0.5555555555555556,
             "#d8576b"
            ],
            [
             0.6666666666666666,
             "#ed7953"
            ],
            [
             0.7777777777777778,
             "#fb9f3a"
            ],
            [
             0.8888888888888888,
             "#fdca26"
            ],
            [
             1,
             "#f0f921"
            ]
           ],
           "sequentialminus": [
            [
             0,
             "#0d0887"
            ],
            [
             0.1111111111111111,
             "#46039f"
            ],
            [
             0.2222222222222222,
             "#7201a8"
            ],
            [
             0.3333333333333333,
             "#9c179e"
            ],
            [
             0.4444444444444444,
             "#bd3786"
            ],
            [
             0.5555555555555556,
             "#d8576b"
            ],
            [
             0.6666666666666666,
             "#ed7953"
            ],
            [
             0.7777777777777778,
             "#fb9f3a"
            ],
            [
             0.8888888888888888,
             "#fdca26"
            ],
            [
             1,
             "#f0f921"
            ]
           ]
          },
          "colorway": [
           "#636efa",
           "#EF553B",
           "#00cc96",
           "#ab63fa",
           "#FFA15A",
           "#19d3f3",
           "#FF6692",
           "#B6E880",
           "#FF97FF",
           "#FECB52"
          ],
          "font": {
           "color": "#2a3f5f"
          },
          "geo": {
           "bgcolor": "white",
           "lakecolor": "white",
           "landcolor": "#E5ECF6",
           "showlakes": true,
           "showland": true,
           "subunitcolor": "white"
          },
          "hoverlabel": {
           "align": "left"
          },
          "hovermode": "closest",
          "mapbox": {
           "style": "light"
          },
          "paper_bgcolor": "white",
          "plot_bgcolor": "#E5ECF6",
          "polar": {
           "angularaxis": {
            "gridcolor": "white",
            "linecolor": "white",
            "ticks": ""
           },
           "bgcolor": "#E5ECF6",
           "radialaxis": {
            "gridcolor": "white",
            "linecolor": "white",
            "ticks": ""
           }
          },
          "scene": {
           "xaxis": {
            "backgroundcolor": "#E5ECF6",
            "gridcolor": "white",
            "gridwidth": 2,
            "linecolor": "white",
            "showbackground": true,
            "ticks": "",
            "zerolinecolor": "white"
           },
           "yaxis": {
            "backgroundcolor": "#E5ECF6",
            "gridcolor": "white",
            "gridwidth": 2,
            "linecolor": "white",
            "showbackground": true,
            "ticks": "",
            "zerolinecolor": "white"
           },
           "zaxis": {
            "backgroundcolor": "#E5ECF6",
            "gridcolor": "white",
            "gridwidth": 2,
            "linecolor": "white",
            "showbackground": true,
            "ticks": "",
            "zerolinecolor": "white"
           }
          },
          "shapedefaults": {
           "line": {
            "color": "#2a3f5f"
           }
          },
          "ternary": {
           "aaxis": {
            "gridcolor": "white",
            "linecolor": "white",
            "ticks": ""
           },
           "baxis": {
            "gridcolor": "white",
            "linecolor": "white",
            "ticks": ""
           },
           "bgcolor": "#E5ECF6",
           "caxis": {
            "gridcolor": "white",
            "linecolor": "white",
            "ticks": ""
           }
          },
          "title": {
           "x": 0.05
          },
          "xaxis": {
           "automargin": true,
           "gridcolor": "white",
           "linecolor": "white",
           "ticks": "",
           "title": {
            "standoff": 15
           },
           "zerolinecolor": "white",
           "zerolinewidth": 2
          },
          "yaxis": {
           "automargin": true,
           "gridcolor": "white",
           "linecolor": "white",
           "ticks": "",
           "title": {
            "standoff": 15
           },
           "zerolinecolor": "white",
           "zerolinewidth": 2
          }
         }
        },
        "title": {
         "text": "<b>Median Anomaly Count by Server</b>",
         "x": 0.5
        },
        "updatemenus": [
         {
          "active": 0,
          "buttons": [
           {
            "args": [
             {
              "visible": [
               true,
               false,
               false
              ]
             }
            ],
            "label": "Atlanta",
            "method": "update"
           },
           {
            "args": [
             {
              "visible": [
               false,
               true,
               false
              ]
             }
            ],
            "label": "Seattle",
            "method": "update"
           },
           {
            "args": [
             {
              "visible": [
               false,
               false,
               true
              ]
             }
            ],
            "label": "Chicago",
            "method": "update"
           }
          ],
          "x": -0.15,
          "xanchor": "left",
          "y": 1.1,
          "yanchor": "top"
         }
        ],
        "xaxis": {
         "autorange": true,
         "range": [
          -0.5,
          11.5
         ],
         "title": {
          "text": "Month"
         },
         "type": "category"
        },
        "yaxis": {
         "autorange": true,
         "range": [
          0,
          29.473684210526315
         ],
         "ticksuffix": "  ",
         "title": {
          "text": "Median Anomaly Count"
         },
         "type": "linear"
        }
       }
      },
      "image/png": "[encoded data removed]",
      "text/html": [
       "<div>                            <div id=\"3ad00478-5b7d-4796-b2d1-1690b670270e\" class=\"plotly-graph-div\" style=\"height:525px; width:100%;\"></div>            <script type=\"text/javascript\">                require([\"plotly\"], function(Plotly) {                    window.PLOTLYENV=window.PLOTLYENV || {};                                    if (document.getElementById(\"3ad00478-5b7d-4796-b2d1-1690b670270e\")) {                    Plotly.newPlot(                        \"3ad00478-5b7d-4796-b2d1-1690b670270e\",                        [{\"name\":\"Altanta\",\"x\":[\"01\",\"02\",\"03\",\"04\",\"05\",\"06\",\"07\",\"08\",\"09\",\"10\",\"11\",\"12\"],\"y\":[28.0,15.5,12.0,0.0,0.0,0.0,0.0,0.0,0.0,0.0,0.0,0.0],\"type\":\"bar\"},{\"name\":\"Seattle\",\"visible\":false,\"x\":[\"01\",\"02\",\"03\",\"04\",\"05\",\"06\",\"07\",\"08\",\"09\",\"10\",\"11\",\"12\"],\"y\":[42.0,21.5,18.0,0.0,0.0,0.0,0.0,0.0,0.0,0.0,0.0,8.0],\"type\":\"bar\"},{\"name\":\"Chicago\",\"visible\":false,\"x\":[\"01\",\"02\",\"03\",\"04\",\"05\",\"06\",\"07\",\"08\",\"09\",\"10\",\"11\",\"12\"],\"y\":[14.0,13.0,7.0,0.0,0.0,0.0,0.0,0.0,0.0,0.0,0.0,0.0],\"type\":\"bar\"}],                        {\"template\":{\"data\":{\"histogram2dcontour\":[{\"type\":\"histogram2dcontour\",\"colorbar\":{\"outlinewidth\":0,\"ticks\":\"\"},\"colorscale\":[[0.0,\"#0d0887\"],[0.1111111111111111,\"#46039f\"],[0.2222222222222222,\"#7201a8\"],[0.3333333333333333,\"#9c179e\"],[0.4444444444444444,\"#bd3786\"],[0.5555555555555556,\"#d8576b\"],[0.6666666666666666,\"#ed7953\"],[0.7777777777777778,\"#fb9f3a\"],[0.8888888888888888,\"#fdca26\"],[1.0,\"#f0f921\"]]}],\"choropleth\":[{\"type\":\"choropleth\",\"colorbar\":{\"outlinewidth\":0,\"ticks\":\"\"}}],\"histogram2d\":[{\"type\":\"histogram2d\",\"colorbar\":{\"outlinewidth\":0,\"ticks\":\"\"},\"colorscale\":[[0.0,\"#0d0887\"],[0.1111111111111111,\"#46039f\"],[0.2222222222222222,\"#7201a8\"],[0.3333333333333333,\"#9c179e\"],[0.4444444444444444,\"#bd3786\"],[0.5555555555555556,\"#d8576b\"],[0.6666666666666666,\"#ed7953\"],[0.7777777777777778,\"#fb9f3a\"],[0.8888888888888888,\"#fdca26\"],[1.0,\"#f0f921\"]]}],\"heatmap\":[{\"type\":\"heatmap\",\"colorbar\":{\"outlinewidth\":0,\"ticks\":\"\"},\"colorscale\":[[0.0,\"#0d0887\"],[0.1111111111111111,\"#46039f\"],[0.2222222222222222,\"#7201a8\"],[0.3333333333333333,\"#9c179e\"],[0.4444444444444444,\"#bd3786\"],[0.5555555555555556,\"#d8576b\"],[0.6666666666666666,\"#ed7953\"],[0.7777777777777778,\"#fb9f3a\"],[0.8888888888888888,\"#fdca26\"],[1.0,\"#f0f921\"]]}],\"heatmapgl\":[{\"type\":\"heatmapgl\",\"colorbar\":{\"outlinewidth\":0,\"ticks\":\"\"},\"colorscale\":[[0.0,\"#0d0887\"],[0.1111111111111111,\"#46039f\"],[0.2222222222222222,\"#7201a8\"],[0.3333333333333333,\"#9c179e\"],[0.4444444444444444,\"#bd3786\"],[0.5555555555555556,\"#d8576b\"],[0.6666666666666666,\"#ed7953\"],[0.7777777777777778,\"#fb9f3a\"],[0.8888888888888888,\"#fdca26\"],[1.0,\"#f0f921\"]]}],\"contourcarpet\":[{\"type\":\"contourcarpet\",\"colorbar\":{\"outlinewidth\":0,\"ticks\":\"\"}}],\"contour\":[{\"type\":\"contour\",\"colorbar\":{\"outlinewidth\":0,\"ticks\":\"\"},\"colorscale\":[[0.0,\"#0d0887\"],[0.1111111111111111,\"#46039f\"],[0.2222222222222222,\"#7201a8\"],[0.3333333333333333,\"#9c179e\"],[0.4444444444444444,\"#bd3786\"],[0.5555555555555556,\"#d8576b\"],[0.6666666666666666,\"#ed7953\"],[0.7777777777777778,\"#fb9f3a\"],[0.8888888888888888,\"#fdca26\"],[1.0,\"#f0f921\"]]}],\"surface\":[{\"type\":\"surface\",\"colorbar\":{\"outlinewidth\":0,\"ticks\":\"\"},\"colorscale\":[[0.0,\"#0d0887\"],[0.1111111111111111,\"#46039f\"],[0.2222222222222222,\"#7201a8\"],[0.3333333333333333,\"#9c179e\"],[0.4444444444444444,\"#bd3786\"],[0.5555555555555556,\"#d8576b\"],[0.6666666666666666,\"#ed7953\"],[0.7777777777777778,\"#fb9f3a\"],[0.8888888888888888,\"#fdca26\"],[1.0,\"#f0f921\"]]}],\"mesh3d\":[{\"type\":\"mesh3d\",\"colorbar\":{\"outlinewidth\":0,\"ticks\":\"\"}}],\"scatter\":[{\"fillpattern\":{\"fillmode\":\"overlay\",\"size\":10,\"solidity\":0.2},\"type\":\"scatter\"}],\"parcoords\":[{\"type\":\"parcoords\",\"line\":{\"colorbar\":{\"outlinewidth\":0,\"ticks\":\"\"}}}],\"scatterpolargl\":[{\"type\":\"scatterpolargl\",\"marker\":{\"colorbar\":{\"outlinewidth\":0,\"ticks\":\"\"}}}],\"bar\":[{\"error_x\":{\"color\":\"#2a3f5f\"},\"error_y\":{\"color\":\"#2a3f5f\"},\"marker\":{\"line\":{\"color\":\"#E5ECF6\",\"width\":0.5},\"pattern\":{\"fillmode\":\"overlay\",\"size\":10,\"solidity\":0.2}},\"type\":\"bar\"}],\"scattergeo\":[{\"type\":\"scattergeo\",\"marker\":{\"colorbar\":{\"outlinewidth\":0,\"ticks\":\"\"}}}],\"scatterpolar\":[{\"type\":\"scatterpolar\",\"marker\":{\"colorbar\":{\"outlinewidth\":0,\"ticks\":\"\"}}}],\"histogram\":[{\"marker\":{\"pattern\":{\"fillmode\":\"overlay\",\"size\":10,\"solidity\":0.2}},\"type\":\"histogram\"}],\"scattergl\":[{\"type\":\"scattergl\",\"marker\":{\"colorbar\":{\"outlinewidth\":0,\"ticks\":\"\"}}}],\"scatter3d\":[{\"type\":\"scatter3d\",\"line\":{\"colorbar\":{\"outlinewidth\":0,\"ticks\":\"\"}},\"marker\":{\"colorbar\":{\"outlinewidth\":0,\"ticks\":\"\"}}}],\"scattermapbox\":[{\"type\":\"scattermapbox\",\"marker\":{\"colorbar\":{\"outlinewidth\":0,\"ticks\":\"\"}}}],\"scatterternary\":[{\"type\":\"scatterternary\",\"marker\":{\"colorbar\":{\"outlinewidth\":0,\"ticks\":\"\"}}}],\"scattercarpet\":[{\"type\":\"scattercarpet\",\"marker\":{\"colorbar\":{\"outlinewidth\":0,\"ticks\":\"\"}}}],\"carpet\":[{\"aaxis\":{\"endlinecolor\":\"#2a3f5f\",\"gridcolor\":\"white\",\"linecolor\":\"white\",\"minorgridcolor\":\"white\",\"startlinecolor\":\"#2a3f5f\"},\"baxis\":{\"endlinecolor\":\"#2a3f5f\",\"gridcolor\":\"white\",\"linecolor\":\"white\",\"minorgridcolor\":\"white\",\"startlinecolor\":\"#2a3f5f\"},\"type\":\"carpet\"}],\"table\":[{\"cells\":{\"fill\":{\"color\":\"#EBF0F8\"},\"line\":{\"color\":\"white\"}},\"header\":{\"fill\":{\"color\":\"#C8D4E3\"},\"line\":{\"color\":\"white\"}},\"type\":\"table\"}],\"barpolar\":[{\"marker\":{\"line\":{\"color\":\"#E5ECF6\",\"width\":0.5},\"pattern\":{\"fillmode\":\"overlay\",\"size\":10,\"solidity\":0.2}},\"type\":\"barpolar\"}],\"pie\":[{\"automargin\":true,\"type\":\"pie\"}]},\"layout\":{\"autotypenumbers\":\"strict\",\"colorway\":[\"#636efa\",\"#EF553B\",\"#00cc96\",\"#ab63fa\",\"#FFA15A\",\"#19d3f3\",\"#FF6692\",\"#B6E880\",\"#FF97FF\",\"#FECB52\"],\"font\":{\"color\":\"#2a3f5f\"},\"hovermode\":\"closest\",\"hoverlabel\":{\"align\":\"left\"},\"paper_bgcolor\":\"white\",\"plot_bgcolor\":\"#E5ECF6\",\"polar\":{\"bgcolor\":\"#E5ECF6\",\"angularaxis\":{\"gridcolor\":\"white\",\"linecolor\":\"white\",\"ticks\":\"\"},\"radialaxis\":{\"gridcolor\":\"white\",\"linecolor\":\"white\",\"ticks\":\"\"}},\"ternary\":{\"bgcolor\":\"#E5ECF6\",\"aaxis\":{\"gridcolor\":\"white\",\"linecolor\":\"white\",\"ticks\":\"\"},\"baxis\":{\"gridcolor\":\"white\",\"linecolor\":\"white\",\"ticks\":\"\"},\"caxis\":{\"gridcolor\":\"white\",\"linecolor\":\"white\",\"ticks\":\"\"}},\"coloraxis\":{\"colorbar\":{\"outlinewidth\":0,\"ticks\":\"\"}},\"colorscale\":{\"sequential\":[[0.0,\"#0d0887\"],[0.1111111111111111,\"#46039f\"],[0.2222222222222222,\"#7201a8\"],[0.3333333333333333,\"#9c179e\"],[0.4444444444444444,\"#bd3786\"],[0.5555555555555556,\"#d8576b\"],[0.6666666666666666,\"#ed7953\"],[0.7777777777777778,\"#fb9f3a\"],[0.8888888888888888,\"#fdca26\"],[1.0,\"#f0f921\"]],\"sequentialminus\":[[0.0,\"#0d0887\"],[0.1111111111111111,\"#46039f\"],[0.2222222222222222,\"#7201a8\"],[0.3333333333333333,\"#9c179e\"],[0.4444444444444444,\"#bd3786\"],[0.5555555555555556,\"#d8576b\"],[0.6666666666666666,\"#ed7953\"],[0.7777777777777778,\"#fb9f3a\"],[0.8888888888888888,\"#fdca26\"],[1.0,\"#f0f921\"]],\"diverging\":[[0,\"#8e0152\"],[0.1,\"#c51b7d\"],[0.2,\"#de77ae\"],[0.3,\"#f1b6da\"],[0.4,\"#fde0ef\"],[0.5,\"#f7f7f7\"],[0.6,\"#e6f5d0\"],[0.7,\"#b8e186\"],[0.8,\"#7fbc41\"],[0.9,\"#4d9221\"],[1,\"#276419\"]]},\"xaxis\":{\"gridcolor\":\"white\",\"linecolor\":\"white\",\"ticks\":\"\",\"title\":{\"standoff\":15},\"zerolinecolor\":\"white\",\"automargin\":true,\"zerolinewidth\":2},\"yaxis\":{\"gridcolor\":\"white\",\"linecolor\":\"white\",\"ticks\":\"\",\"title\":{\"standoff\":15},\"zerolinecolor\":\"white\",\"automargin\":true,\"zerolinewidth\":2},\"scene\":{\"xaxis\":{\"backgroundcolor\":\"#E5ECF6\",\"gridcolor\":\"white\",\"linecolor\":\"white\",\"showbackground\":true,\"ticks\":\"\",\"zerolinecolor\":\"white\",\"gridwidth\":2},\"yaxis\":{\"backgroundcolor\":\"#E5ECF6\",\"gridcolor\":\"white\",\"linecolor\":\"white\",\"showbackground\":true,\"ticks\":\"\",\"zerolinecolor\":\"white\",\"gridwidth\":2},\"zaxis\":{\"backgroundcolor\":\"#E5ECF6\",\"gridcolor\":\"white\",\"linecolor\":\"white\",\"showbackground\":true,\"ticks\":\"\",\"zerolinecolor\":\"white\",\"gridwidth\":2}},\"shapedefaults\":{\"line\":{\"color\":\"#2a3f5f\"}},\"annotationdefaults\":{\"arrowcolor\":\"#2a3f5f\",\"arrowhead\":0,\"arrowwidth\":1},\"geo\":{\"bgcolor\":\"white\",\"landcolor\":\"#E5ECF6\",\"subunitcolor\":\"white\",\"showland\":true,\"showlakes\":true,\"lakecolor\":\"white\"},\"title\":{\"x\":0.05},\"mapbox\":{\"style\":\"light\"}}},\"title\":{\"text\":\"\\u003cb\\u003eMedian Anomaly Count by Server\\u003c\\u002fb\\u003e\",\"x\":0.5},\"margin\":{\"t\":90},\"yaxis\":{\"ticksuffix\":\"  \",\"title\":{\"text\":\"Median Anomaly Count\"}},\"xaxis\":{\"title\":{\"text\":\"Month\"}},\"updatemenus\":[{\"active\":0,\"buttons\":[{\"args\":[{\"visible\":[true,false,false]}],\"label\":\"Atlanta\",\"method\":\"update\"},{\"args\":[{\"visible\":[false,true,false]}],\"label\":\"Seattle\",\"method\":\"update\"},{\"args\":[{\"visible\":[false,false,true]}],\"label\":\"Chicago\",\"method\":\"update\"}],\"x\":-0.15,\"xanchor\":\"left\",\"y\":1.1,\"yanchor\":\"top\"}]},                        {\"responsive\": true}                    ).then(function(){\n",
       "                            \n",
       "var gd = document.getElementById('3ad00478-5b7d-4796-b2d1-1690b670270e');\n",
       "var x = new MutationObserver(function (mutations, observer) {{\n",
       "        var display = window.getComputedStyle(gd).display;\n",
       "        if (!display || display === 'none') {{\n",
       "            console.log([gd, 'removed!']);\n",
       "            Plotly.purge(gd);\n",
       "            observer.disconnect();\n",
       "        }}\n",
       "}});\n",
       "\n",
       "// Listen for the removal of the full notebook cells\n",
       "var notebookContainer = gd.closest('#notebook-container');\n",
       "if (notebookContainer) {{\n",
       "    x.observe(notebookContainer, {childList: true});\n",
       "}}\n",
       "\n",
       "// Listen for the clearing of the current output cell\n",
       "var outputEl = gd.closest('.output');\n",
       "if (outputEl) {{\n",
       "    x.observe(outputEl, {childList: true});\n",
       "}}\n",
       "\n",
       "                        })                };                });            </script>        </div>"
      ]
     },
     "metadata": {},
     "output_type": "display_data"
    }
   ],
   "source": [
    "#Created a df that separated each target in order to create a plot per target\n",
    "atl = anomalymonth_2022.loc[anomalymonth_2022['target'] == 'Atlanta']\n",
    "stl = anomalymonth_2022.loc[anomalymonth_2022['target'] == 'Seattle']\n",
    "chi = anomalymonth_2022.loc[anomalymonth_2022['target'] == 'Chicago']\n",
    "\n",
    "fig2 = go.Figure()\n",
    "\n",
    "# Adding Atlanta bar plot\n",
    "fig2.add_trace(\n",
    "    go.Bar(\n",
    "        y=list(atl['anomalytotal']),\n",
    "        x=list(atl['month']),\n",
    "        name='Altanta',\n",
    "    )\n",
    ")\n",
    "\n",
    "# Adding Seattle bar plot\n",
    "fig2.add_trace(\n",
    "    go.Bar(\n",
    "        y=list(stl['anomalytotal']),\n",
    "        x=list(stl['month']),\n",
    "        name='Seattle',\n",
    "        visible=False,\n",
    "    )\n",
    ")\n",
    "\n",
    "# Adding Chicago bar plot\n",
    "fig2.add_trace(\n",
    "    go.Bar(\n",
    "        y=list(chi['anomalytotal']),\n",
    "        x=list(chi['month']),\n",
    "        name='Chicago',\n",
    "        visible=False,\n",
    "    )\n",
    ")\n",
    "\n",
    "# Minor layout adjustments\n",
    "fig2.update_layout(title=('<b>Median Anomaly Count by Server</b>'), \n",
    "                  title_x=0.5,\n",
    "                  margin=dict(t=90),\n",
    "                  yaxis=dict( ticksuffix=\"  \", title=\"Median Anomaly Count\"),\n",
    "                   xaxis=dict(title=\"Month\") \n",
    "                  )                \n",
    "#Creating dropdown menu with names\n",
    "fig2.update_layout(\n",
    "    updatemenus=[\n",
    "        dict(\n",
    "            xanchor='left',\n",
    "            x=-0.15,\n",
    "            yanchor='top',\n",
    "            y=1.1,\n",
    "            active=0,\n",
    "            buttons=list([\n",
    "                dict(label=\"Atlanta\",\n",
    "                     method=\"update\",\n",
    "                     args=[{\"visible\": [True, False, False]}]\n",
    "                    ),\n",
    "                dict(label=\"Seattle\",\n",
    "                     method=\"update\",\n",
    "                     args=[{\"visible\": [False, True, False]}]\n",
    "                    ),\n",
    "                dict(label=\"Chicago\",\n",
    "                     method=\"update\",\n",
    "                     args=[{\"visible\": [False, False, True]}]\n",
    "                    )\n",
    "            ]),\n",
    "        )\n",
    "    ])\n",
    "fig2.show()\n",
    "#fig2.write_html('monthdropwdown.html')"
   ]
  },
  {
   "cell_type": "code",
   "execution_count": 19,
   "id": "9a3e6f93-3c34-4e27-bb20-767cfe41c9f8",
   "metadata": {},
   "outputs": [
    {
     "ename": "NameError",
     "evalue": "name 'cities' is not defined",
     "output_type": "error",
     "traceback": [
      "\u001b[0;31m---------------------------------------------------------------------------\u001b[0m",
      "\u001b[0;31mNameError\u001b[0m                                 Traceback (most recent call last)",
      "Cell \u001b[0;32mIn[19], line 8\u001b[0m\n\u001b[1;32m      1\u001b[0m \u001b[38;5;66;03m#Rahim's version\u001b[39;00m\n\u001b[1;32m      2\u001b[0m \n\u001b[1;32m      3\u001b[0m \n\u001b[1;32m      4\u001b[0m \u001b[38;5;66;03m# Create a trace for each city\u001b[39;00m\n\u001b[1;32m      5\u001b[0m traces \u001b[38;5;241m=\u001b[39m [go\u001b[38;5;241m.\u001b[39mBar(x\u001b[38;5;241m=\u001b[39mdf[df[\u001b[38;5;124m'\u001b[39m\u001b[38;5;124mCity\u001b[39m\u001b[38;5;124m'\u001b[39m] \u001b[38;5;241m==\u001b[39m city][\u001b[38;5;124m'\u001b[39m\u001b[38;5;124mMonth\u001b[39m\u001b[38;5;124m'\u001b[39m], \n\u001b[1;32m      6\u001b[0m                  y\u001b[38;5;241m=\u001b[39mdf[df[\u001b[38;5;124m'\u001b[39m\u001b[38;5;124mCity\u001b[39m\u001b[38;5;124m'\u001b[39m] \u001b[38;5;241m==\u001b[39m city][\u001b[38;5;124m'\u001b[39m\u001b[38;5;124mValue\u001b[39m\u001b[38;5;124m'\u001b[39m], \n\u001b[1;32m      7\u001b[0m                  name\u001b[38;5;241m=\u001b[39mcity, visible\u001b[38;5;241m=\u001b[39m(i\u001b[38;5;241m==\u001b[39m\u001b[38;5;241m0\u001b[39m)) \n\u001b[0;32m----> 8\u001b[0m           \u001b[38;5;28;01mfor\u001b[39;00m i, city \u001b[38;5;129;01min\u001b[39;00m \u001b[38;5;28menumerate\u001b[39m(\u001b[43mcities\u001b[49m)]\n\u001b[1;32m     10\u001b[0m \u001b[38;5;66;03m# Create the layout\u001b[39;00m\n\u001b[1;32m     11\u001b[0m layout \u001b[38;5;241m=\u001b[39m go\u001b[38;5;241m.\u001b[39mLayout(\n\u001b[1;32m     12\u001b[0m     title\u001b[38;5;241m=\u001b[39m\u001b[38;5;124m\"\u001b[39m\u001b[38;5;124mDaily Median Anomalies by Month\u001b[39m\u001b[38;5;124m\"\u001b[39m,\n\u001b[1;32m     13\u001b[0m     xaxis\u001b[38;5;241m=\u001b[39m\u001b[38;5;28mdict\u001b[39m(title\u001b[38;5;241m=\u001b[39m\u001b[38;5;124m'\u001b[39m\u001b[38;5;124mMonth\u001b[39m\u001b[38;5;124m'\u001b[39m),\n\u001b[0;32m   (...)\u001b[0m\n\u001b[1;32m     32\u001b[0m     ]\n\u001b[1;32m     33\u001b[0m )\n",
      "\u001b[0;31mNameError\u001b[0m: name 'cities' is not defined"
     ]
    }
   ],
   "source": [
    "#Rahim's version\n",
    "\n",
    "\n",
    "# Create a trace for each city\n",
    "traces = [go.Bar(x=df[df['City'] == city]['Month'], \n",
    "                 y=df[df['City'] == city]['Value'], \n",
    "                 name=city, visible=(i==0)) \n",
    "          for i, city in enumerate(cities)]\n",
    "\n",
    "# Create the layout\n",
    "layout = go.Layout(\n",
    "    title=\"Daily Median Anomalies by Month\",\n",
    "    xaxis=dict(title='Month'),\n",
    "    yaxis=dict(title='Daily Median Anomalies'),\n",
    "    updatemenus=[\n",
    "        dict(\n",
    "            buttons=list([\n",
    "                dict(\n",
    "                    args=[\"visible\", [i==j for i in range(len(cities))]],\n",
    "                    label=cities[j],\n",
    "                    method=\"restyle\"\n",
    "                ) for j in range(len(cities))\n",
    "            ]),\n",
    "            direction=\"down\",\n",
    "            pad={\"r\": 10, \"t\": 10},\n",
    "            showactive=True,\n",
    "            x=0.1,\n",
    "            xanchor=\"left\",\n",
    "            y=1.1,\n",
    "            yanchor=\"top\"\n",
    "        ),\n",
    "    ]\n",
    ")\n",
    "\n",
    "# Create the figure\n",
    "fig = go.Figure(data=traces, layout=layout)\n",
    "\n",
    "fig"
   ]
  },
  {
   "cell_type": "code",
   "execution_count": null,
   "id": "6ec9910f-4b59-4f8e-a1b5-44935d6dbe08",
   "metadata": {},
   "outputs": [],
   "source": []
  },
  {
   "cell_type": "code",
   "execution_count": null,
   "id": "73dfd71a-df2e-4936-8277-2b4b0d2ad731",
   "metadata": {},
   "outputs": [],
   "source": []
  }
 ],
 "metadata": {
  "kernelspec": {
   "display_name": "Python 3 (ipykernel)",
   "language": "python",
   "name": "python3"
  },
  "language_info": {
   "codemirror_mode": {
    "name": "ipython",
    "version": 3
   },
   "file_extension": ".py",
   "mimetype": "text/x-python",
   "name": "python",
   "nbconvert_exporter": "python",
   "pygments_lexer": "ipython3",
   "version": "3.9.7"
  }
 },
 "nbformat": 4,
 "nbformat_minor": 5
}
